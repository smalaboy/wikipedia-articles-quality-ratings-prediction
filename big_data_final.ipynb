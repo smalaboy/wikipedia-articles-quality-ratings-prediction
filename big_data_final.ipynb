{
  "nbformat": 4,
  "nbformat_minor": 0,
  "metadata": {
    "colab": {
      "provenance": [],
      "mount_file_id": "1RVqcLHlBoCZGGnStcSeOzIpUGYtUY6hj",
      "authorship_tag": "ABX9TyPlD7bLCeVb9MeIQX5Wiu/Y",
      "include_colab_link": true
    },
    "kernelspec": {
      "name": "python3",
      "display_name": "Python 3"
    },
    "language_info": {
      "name": "python"
    }
  },
  "cells": [
    {
      "cell_type": "markdown",
      "metadata": {
        "id": "view-in-github",
        "colab_type": "text"
      },
      "source": [
        "<a href=\"https://colab.research.google.com/github/smalaboy/wikipedia-articles-quality-ratings-prediction/blob/main/big_data_final.ipynb\" target=\"_parent\"><img src=\"https://colab.research.google.com/assets/colab-badge.svg\" alt=\"Open In Colab\"/></a>"
      ]
    },
    {
      "cell_type": "markdown",
      "source": [
        "**Setting up Spark environment**"
      ],
      "metadata": {
        "id": "omMMWpO0VWki"
      }
    },
    {
      "cell_type": "code",
      "execution_count": null,
      "metadata": {
        "id": "vEPy8EJ96cII"
      },
      "outputs": [],
      "source": [
        "!apt-get install openjdk-8-jdk-headless -qq > /dev/null\n",
        "!wget -q https://archive.apache.org/dist/spark/spark-3.2.1/spark-3.2.1-bin-hadoop2.7.tgz\n",
        "!tar xf spark-3.2.1-bin-hadoop2.7.tgz\n",
        "!pip install -q findspark"
      ]
    },
    {
      "cell_type": "code",
      "source": [
        "import os\n",
        "os.environ[\"JAVA_HOME\"] = \"/usr/lib/jvm/java-8-openjdk-amd64\"\n",
        "os.environ[\"SPARK_HOME\"] = \"/content/spark-3.2.1-bin-hadoop2.7\"\n",
        "\n",
        "import findspark\n",
        "findspark.init()\n",
        "from pyspark.sql import SparkSession\n",
        "spark = SparkSession.builder.master(\"local[*]\").getOrCreate()"
      ],
      "metadata": {
        "id": "J6d-ZLy07YMk"
      },
      "execution_count": null,
      "outputs": []
    },
    {
      "cell_type": "code",
      "source": [
        "# Install textstat package for features extraction\n",
        "!pip install textstat"
      ],
      "metadata": {
        "id": "AFEz1ODoXz74",
        "colab": {
          "base_uri": "https://localhost:8080/"
        },
        "outputId": "8f796143-f7b4-4c7d-a46b-19deee319b91"
      },
      "execution_count": null,
      "outputs": [
        {
          "output_type": "stream",
          "name": "stdout",
          "text": [
            "Collecting textstat\n",
            "  Downloading textstat-0.7.3-py3-none-any.whl (105 kB)\n",
            "\u001b[K     |████████████████████████████████| 105 kB 8.7 MB/s \n",
            "\u001b[?25hCollecting pyphen\n",
            "  Downloading pyphen-0.12.0-py3-none-any.whl (2.0 MB)\n",
            "\u001b[K     |████████████████████████████████| 2.0 MB 11.2 MB/s \n",
            "\u001b[?25hInstalling collected packages: pyphen, textstat\n",
            "Successfully installed pyphen-0.12.0 textstat-0.7.3\n"
          ]
        }
      ]
    },
    {
      "cell_type": "markdown",
      "source": [
        "**Extracting and loading the dataset plus preprocessing**"
      ],
      "metadata": {
        "id": "6LbsU2fbVj98"
      }
    },
    {
      "cell_type": "code",
      "source": [
        "\n",
        "!tar -xf '/content/drive/MyDrive/Big data project/dataset/2017_english_wikipedia_quality_dataset.tar.bz2'"
      ],
      "metadata": {
        "id": "257yGO0j9YCG"
      },
      "execution_count": null,
      "outputs": []
    },
    {
      "cell_type": "code",
      "source": [
        "!head datasets/training-set.tsv"
      ],
      "metadata": {
        "colab": {
          "base_uri": "https://localhost:8080/"
        },
        "id": "wQaL2Z28MjSw",
        "outputId": "6198fae1-2000-4ca9-a257-0bffc9b78647"
      },
      "execution_count": null,
      "outputs": [
        {
          "output_type": "stream",
          "name": "stdout",
          "text": [
            "article_pageid\tarticle_revid\ttalk_pageid\ttalk_revid\trating\n",
            "40452915\t114890603\t6571443\t115289309\tFA\n",
            "1411100\t146756677\t4408065\t146854799\tFA\n",
            "29594\t661234581\t29595\t661615181\tFA\n",
            "61075\t51180276\t3912707\t51473626\tFA\n",
            "27972897\t417340888\t28703029\t417340981\tFA\n",
            "773871\t393596548\t11225839\t393596569\tFA\n",
            "977013\t599919345\t6388819\t600044050\tFA\n",
            "44371\t194070822\t602518\t194070829\tFA\n",
            "4582725\t225485546\t5033259\t226151081\tFA\n"
          ]
        }
      ]
    },
    {
      "cell_type": "code",
      "source": [
        "# Training grades\n",
        "training_grades_rdd = spark.sparkContext.textFile(\"datasets/training-set.tsv\").map(lambda line: line.split(\"\\t\"))\n",
        "training_grades_rdd.take(5)"
      ],
      "metadata": {
        "colab": {
          "base_uri": "https://localhost:8080/"
        },
        "id": "Qym5MutEArGw",
        "outputId": "3021b68f-587e-45c9-c985-2b79bd5fff2c"
      },
      "execution_count": null,
      "outputs": [
        {
          "output_type": "execute_result",
          "data": {
            "text/plain": [
              "[['article_pageid', 'article_revid', 'talk_pageid', 'talk_revid', 'rating'],\n",
              " ['40452915', '114890603', '6571443', '115289309', 'FA'],\n",
              " ['1411100', '146756677', '4408065', '146854799', 'FA'],\n",
              " ['29594', '661234581', '29595', '661615181', 'FA'],\n",
              " ['61075', '51180276', '3912707', '51473626', 'FA']]"
            ]
          },
          "metadata": {},
          "execution_count": 8
        }
      ]
    },
    {
      "cell_type": "code",
      "source": [
        "training_grades_rdd.groupBy(lambda x: x[0]).count()"
      ],
      "metadata": {
        "colab": {
          "base_uri": "https://localhost:8080/"
        },
        "id": "eiuJ2BvyEN1D",
        "outputId": "0ca0de81-d9d1-4019-fe80-c9a73c608174"
      },
      "execution_count": null,
      "outputs": [
        {
          "output_type": "execute_result",
          "data": {
            "text/plain": [
              "29175"
            ]
          },
          "metadata": {},
          "execution_count": 9
        }
      ]
    },
    {
      "cell_type": "code",
      "source": [
        "header = [\"article_pageid\", \"article_revid\", \"talk_pageid\", \"talk_revid\", \"rating\"]"
      ],
      "metadata": {
        "id": "0QwMIJVLMs6t"
      },
      "execution_count": null,
      "outputs": []
    },
    {
      "cell_type": "code",
      "source": [
        "# Removing header row and loading into a Spark Dataframe\n",
        "training_ratings_df = training_grades_rdd.filter(lambda row: row != header).toDF(schema=header)\n",
        "training_ratings_df.printSchema()\n",
        "training_ratings_df.head(5)"
      ],
      "metadata": {
        "colab": {
          "base_uri": "https://localhost:8080/"
        },
        "id": "upqrkR7kKwmW",
        "outputId": "9678b4c4-282d-4996-f1b1-ce58f328859d"
      },
      "execution_count": null,
      "outputs": [
        {
          "output_type": "stream",
          "name": "stdout",
          "text": [
            "root\n",
            " |-- article_pageid: string (nullable = true)\n",
            " |-- article_revid: string (nullable = true)\n",
            " |-- talk_pageid: string (nullable = true)\n",
            " |-- talk_revid: string (nullable = true)\n",
            " |-- rating: string (nullable = true)\n",
            "\n"
          ]
        },
        {
          "output_type": "execute_result",
          "data": {
            "text/plain": [
              "[Row(article_pageid='40452915', article_revid='114890603', talk_pageid='6571443', talk_revid='115289309', rating='FA'),\n",
              " Row(article_pageid='1411100', article_revid='146756677', talk_pageid='4408065', talk_revid='146854799', rating='FA'),\n",
              " Row(article_pageid='29594', article_revid='661234581', talk_pageid='29595', talk_revid='661615181', rating='FA'),\n",
              " Row(article_pageid='61075', article_revid='51180276', talk_pageid='3912707', talk_revid='51473626', rating='FA'),\n",
              " Row(article_pageid='27972897', article_revid='417340888', talk_pageid='28703029', talk_revid='417340981', rating='FA')]"
            ]
          },
          "metadata": {},
          "execution_count": 11
        }
      ]
    },
    {
      "cell_type": "markdown",
      "source": [
        "**Ratings extraction**"
      ],
      "metadata": {
        "id": "ZLvcUGvMOlf6"
      }
    },
    {
      "cell_type": "code",
      "source": [
        "def extract_rating_todf(filename: str):\n",
        "  header = [\"article_pageid\", \"article_revid\", \"talk_pageid\", \"talk_revid\", \"rating\"]\n",
        "  ratings_rdd = spark.sparkContext.textFile(f\"{filename}\").map(lambda line: line.split(\"\\t\"))\n",
        "  ratings_df = ratings_rdd.filter(lambda row: row != header).toDF(schema=header)\n",
        "  return ratings_df"
      ],
      "metadata": {
        "id": "I6-bhC_TOk8t"
      },
      "execution_count": null,
      "outputs": []
    },
    {
      "cell_type": "code",
      "source": [
        "training_rating_df = extract_rating_todf(\"datasets/training-set.tsv\")\n",
        "test_rating_df = extract_rating_todf(\"datasets/test-set.tsv\")\n",
        "rating_df = training_rating_df.union(test_rating_df)\n",
        "rating_df.head(5)"
      ],
      "metadata": {
        "colab": {
          "base_uri": "https://localhost:8080/"
        },
        "id": "l7HM-e3MPZ-m",
        "outputId": "d1945ddf-eb6c-423f-c2f1-2320c4ffe78e"
      },
      "execution_count": null,
      "outputs": [
        {
          "output_type": "execute_result",
          "data": {
            "text/plain": [
              "[Row(article_pageid='40452915', article_revid='114890603', talk_pageid='6571443', talk_revid='115289309', rating='FA'),\n",
              " Row(article_pageid='1411100', article_revid='146756677', talk_pageid='4408065', talk_revid='146854799', rating='FA'),\n",
              " Row(article_pageid='29594', article_revid='661234581', talk_pageid='29595', talk_revid='661615181', rating='FA'),\n",
              " Row(article_pageid='61075', article_revid='51180276', talk_pageid='3912707', talk_revid='51473626', rating='FA'),\n",
              " Row(article_pageid='27972897', article_revid='417340888', talk_pageid='28703029', talk_revid='417340981', rating='FA')]"
            ]
          },
          "metadata": {},
          "execution_count": 13
        }
      ]
    },
    {
      "cell_type": "markdown",
      "source": [
        "**File data extraction**"
      ],
      "metadata": {
        "id": "nBLaJ1okPtYW"
      }
    },
    {
      "cell_type": "code",
      "source": [
        "def extract_file_text_data(filename: str):\n",
        "  \"\"\"\n",
        "  Reads the file and returns the text data\n",
        "  \"\"\"\n",
        "  text = \"\"\n",
        "  with open(filename, \"r\") as f:\n",
        "    text = f.read()\n",
        "  return text"
      ],
      "metadata": {
        "id": "sWAL5kD4PxIk"
      },
      "execution_count": null,
      "outputs": []
    },
    {
      "cell_type": "code",
      "source": [
        "def text_length_in_bytes(text: str):\n",
        "  \"\"\"\n",
        "  Returns the file length in bytes\n",
        "  \"\"\"\n",
        "  return len(text.encode('utf-8'))"
      ],
      "metadata": {
        "id": "_XBF-nBOTJUh"
      },
      "execution_count": null,
      "outputs": []
    },
    {
      "cell_type": "code",
      "source": [
        "import re\n",
        "import textstat\n",
        "import math\n",
        "\n",
        "features_list = [\"content_length\", \"n_words\", \"num_references\", \"num_page_links\", \"num_categories\", \"num_images_length\", \"has_infobox\",\n",
        "                  \"flesch_reading_ease\", \"flesch_kincaid_grade\", \"smog_index\", \"coleman_liau_index\", \"automated_readability_index\", \"difficult_words\",\n",
        "                 \"dale_chall_readability_score\", \"linsear_write_formula\", \"gunning_fog\",  \"num_lv2_headings\", \"num_lv3_headings\"\n",
        "                 ,\"avg_word\", \"words_per_sent\", \"nb_lang\", \"nb_info_items\", \"nb_lead_paragraphs\"]\n",
        "\n",
        "def extract_text_data_features_todf(text: str):\n",
        "  \"\"\"\n",
        "  Extracts the features from text data and returns an order list of the values\n",
        "  \"\"\"\n",
        "  content_length = text_length_in_bytes(text)  # Article length in bytes OK\n",
        "  n_words = 0 # Number of words\n",
        "  num_references = 0  # Number of references OK\n",
        "  num_page_links = 0  # Number of outlinks to other Wikipedia pages OK\n",
        "  # num_cite_temp = 0  # Number of citation templates\n",
        "  # num_non_cite_templates = 0  # Number of non-citation templates\n",
        "  num_categories = 0  # Number of categories linked in the text OK\n",
        "  _num_images = 0  # Number of images\n",
        "  num_images_length = 0  # Number of images / length of article OK\n",
        "  has_infobox = 0  # Article has an infobox or not  OK\n",
        "  num_lv2_headings = 0  # Number of level 2 headings\n",
        "  num_lv3_headings = 0  # Number of level 3+ headings\n",
        "\n",
        "  flesch_reading_ease = textstat.flesch_reading_ease(text)  # Flesch reading score\n",
        "  flesch_kincaid_grade = textstat.flesch_kincaid_grade(text)  # Flesch-Kincaid grade level\n",
        "  smog_index = textstat.smog_index(text)  # Smog index\n",
        "  coleman_liau_index = textstat.coleman_liau_index(text)  # Coleman-Liau index\n",
        "  automated_readability_index = textstat.automated_readability_index(text)  # Automated readability index\n",
        "  difficult_words = textstat.difficult_words(text)  # Difficult words\n",
        "  dale_chall_readability_score = textstat.dale_chall_readability_score(text)  # Dale-Chall score\n",
        "  linsear_write_formula = textstat.linsear_write_formula(text)  # Linsear write formula\n",
        "  gunning_fog = textstat.gunning_fog(text)  # Gunning-Fog index\n",
        "\n",
        "  avg_word = textstat.avg_letter_per_word(text)\n",
        "  words_per_sent = textstat.avg_sentence_length(text)\n",
        "  nb_lang = 0\n",
        "  nb_info_items = 0\n",
        "  nb_lead_paragraphs = 0\n",
        "\n",
        "  text_lines = str(text).splitlines()\n",
        "  n = len(text_lines)\n",
        "\n",
        "  for i in range(len(text_lines)):\n",
        "    line = text_lines[i] # Current line\n",
        "\n",
        "    # Counting the number of words\n",
        "    n_words += len(str(line).strip().split(' '))\n",
        "\n",
        "    # Number of paragraphs of the lead section\n",
        "    # if re.search(\"^([^\\{\\}\\|=]|[a-zA-Z0-9\\'])\", line) and nb_lead_paragraphs == 0 and len(line.strip()) > 0:\n",
        "    if re.search(\"^([a-zA-Z0-9\\'])\", line) and nb_lead_paragraphs == 0 and len(line.strip()) > 0:\n",
        "      nb_lead_paragraphs += 1\n",
        "      next_line = text_lines[i+1] if (i+1) < len(text_lines) else ''\n",
        "      while not re.search(\"^={2}\", next_line) and i < n:\n",
        "        if len(next_line.strip()) > 0:\n",
        "          nb_lead_paragraphs += 1\n",
        "        i += 1\n",
        "        next_line = text_lines[i+1] if (i+1) < len(text_lines) else ''\n",
        "\n",
        "\n",
        "    # Counting the number of l2 level titles\n",
        "    if re.search(\"^={2}[^=].*[^=]={2}$\", line):\n",
        "      num_lv2_headings += 1\n",
        "\n",
        "    # Counting the number of l3 level titles\n",
        "    if re.search(\"^={3}.*={3}$\", line):\n",
        "      num_lv3_headings += 1\n",
        "\n",
        "    # Checking for the presence of an infobox and counting the number info lines\n",
        "    # if line.startswith(\"{{Infobox\"):\n",
        "    if re.search(\"^{{.*Infobox\", line, re.IGNORECASE):\n",
        "      has_infobox += 1\n",
        "      # nb_info_items = 0\n",
        "      next_line = text_lines[i+1] if (i+1) < len(text_lines) else ''\n",
        "      while not re.search(\"^[^\\{\\{].*}}\", next_line) and i < n: # While closing brackets are not matched\n",
        "        nb_info_items += 1\n",
        "        i += 1\n",
        "        next_line = text_lines[i+1] if (i+1) < len(text_lines) else ''\n",
        "\n",
        "    # Counting the number of references (num_references)\n",
        "    if line.strip().startswith(\"==References==\") or line.strip().startswith(\"== References ==\") or line.strip().startswith(\"==Sources==\") or line.strip().startswith(\"== Sources ==\"):\n",
        "      next_line = text_lines[i+1] if (i+1) < len(text_lines) else ''\n",
        "      while not next_line.startswith(\"==\") and len(next_line.strip())>0 and i < n:\n",
        "        num_references += 1 if next_line.startswith(\"*\") else 0\n",
        "        i += 1\n",
        "        next_line = text_lines[i+1] if (i+1) < len(text_lines) else ''\n",
        "\n",
        "    # Counting the number of links to wikipedia pages (num_page_links)\n",
        "    if line.strip().startswith(\"==See also==\") or line.strip().startswith(\"== See also ==\"):\n",
        "      next_line = text_lines[i+1] if (i+1) < len(text_lines) else ''\n",
        "      # while next_line.startswith(\"*\"):\n",
        "      while not next_line.startswith(\"==\") and len(next_line.strip())>0 and i < n:\n",
        "        num_page_links += 1 if next_line.startswith(\"*\") else 0\n",
        "        i += 1\n",
        "        next_line = text_lines[i+1] if (i+1) < len(text_lines) else ''\n",
        "\n",
        "    # Counting the number of categories linked in the text\n",
        "    if line.startswith(\"[[Category:\"):\n",
        "      num_categories += 1\n",
        "\n",
        "    # Counting the number of images\n",
        "    # if line.startswith(\"[[Image:\"):\n",
        "    if re.search(\"^.*\\[\\[Image\", line, re.IGNORECASE):\n",
        "      _num_images += 1\n",
        "\n",
        "    # count the number of different languages except english\n",
        "    if re.search(\"^\\[\\[[a-zA-Z]{2,3}:.*\\]\\]$\", line, re.IGNORECASE):\n",
        "      nb_lang += 1\n",
        "\n",
        "  num_images_length = _num_images / content_length\n",
        "  num_images_length = math.log(num_images_length + 1)\n",
        "  content_length = math.log(content_length + 1)\n",
        "  num_references = math.log(num_references + 1)\n",
        "\n",
        "  # For visualisation. Not used\n",
        "  out_dict = {\n",
        "      \"content_length\": float(content_length),\n",
        "      \"n_words\": float(n_words),\n",
        "      \"num_references\": float(num_references),\n",
        "      \"num_page_links\": float(num_page_links),\n",
        "      \"num_categories\": float(num_categories),\n",
        "      \"num_images_length\": float(num_images_length),\n",
        "      \"has_infobox\": float(has_infobox),\n",
        "      \"flesch_reading_ease\": float(flesch_reading_ease),\n",
        "      \"flesch_kincaid_grade\": float(flesch_kincaid_grade),\n",
        "      \"smog_index\": float(smog_index),\n",
        "      \"coleman_liau_index\": float(coleman_liau_index),\n",
        "      \"automated_readability_index\": float(automated_readability_index),\n",
        "      \"difficult_words\": float(difficult_words),\n",
        "      \"dale_chall_readability_score\": float(dale_chall_readability_score),\n",
        "      \"linsear_write_formula\": float(linsear_write_formula),\n",
        "      \"gunning_fog\": float(gunning_fog),\n",
        "      \"num_lv2_headings\": float(num_lv2_headings),\n",
        "      \"num_lv3_headings\": float(num_lv3_headings),\n",
        "\n",
        "      \"avg_word\": avg_word,\n",
        "      \"words_per_sent\": words_per_sent,\n",
        "      \"nb_lang\": nb_lang,\n",
        "      \"nb_info_items\": nb_info_items,\n",
        "      \"nb_lead_paragraphs\": nb_lead_paragraphs\n",
        "  }\n",
        "  # print(out_dict)\n",
        "\n",
        "  return list(map(float, [content_length, n_words, num_references, num_page_links, num_categories, num_images_length, has_infobox,\n",
        "                          flesch_reading_ease, flesch_kincaid_grade, smog_index, coleman_liau_index, automated_readability_index, difficult_words,\n",
        "                          dale_chall_readability_score, linsear_write_formula, gunning_fog, num_lv2_headings, num_lv3_headings\n",
        "                          ,avg_word, words_per_sent, nb_lang, nb_info_items, nb_lead_paragraphs]))\n",
        ""
      ],
      "metadata": {
        "id": "cpLZfthASC3Z"
      },
      "execution_count": null,
      "outputs": []
    },
    {
      "cell_type": "code",
      "source": [
        "# Test\n",
        "# extract_text_data_features_todf(extract_file_text_data(\"revisiondata/50519644\"))\n",
        "# extract_text_data_features_todf(extract_file_text_data(\"revisiondata/46372253\"))\n",
        "# extract_text_data_features_todf(extract_file_text_data(\"revisiondata/720901161\"))"
      ],
      "metadata": {
        "id": "wwKNQUnIP_J-"
      },
      "execution_count": null,
      "outputs": []
    },
    {
      "cell_type": "markdown",
      "source": [
        "Extracting features from the dataset and loading into a dataframe"
      ],
      "metadata": {
        "id": "ZbPhLnOjbYB6"
      }
    },
    {
      "cell_type": "code",
      "source": [
        "import os\n",
        "from pyspark.sql.dataframe import DataFrame\n",
        "from pyspark.sql.types import StructField, StringType, StructType, IntegerType, DoubleType, ArrayType\n",
        "\n",
        "schema = StructType([ \\\n",
        "    StructField(\"index\", IntegerType(), True), \\\n",
        "    StructField(\"article_revid\",StringType(),True), \\\n",
        "    StructField(\"features\", ArrayType(DoubleType()),True), \\\n",
        "    # StructField(\"rating\",StringType(),True), \\\n",
        "  ] + [StructField(field_name, DoubleType(), True) for field_name in features_list])\n",
        "data = []\n",
        "for index, file_name in enumerate(os.listdir(\"revisiondata\")):\n",
        "  if index % 100 == 0:  # Prints the progress\n",
        "      print(f\"{index} - {file_name}\")\n",
        "  features = extract_text_data_features_todf(extract_file_text_data(f\"revisiondata/{file_name}\"))\n",
        "  row = []\n",
        "  row.append(index)\n",
        "  row.append(file_name)\n",
        "  row.append(features)\n",
        "\n",
        "  for value in features:\n",
        "    row.append(value)\n",
        "\n",
        "  data.append(row)\n",
        "\n",
        "# print(data[:5])\n",
        "\n",
        "df = spark.createDataFrame(data, schema=schema)\n",
        "df.printSchema()\n",
        "df.head(5)"
      ],
      "metadata": {
        "colab": {
          "base_uri": "https://localhost:8080/",
          "height": 623
        },
        "id": "kPCfw6wKSske",
        "outputId": "5c59c72b-d17f-4492-cc82-476796063d58"
      },
      "execution_count": null,
      "outputs": [
        {
          "output_type": "stream",
          "name": "stdout",
          "text": [
            "0 - 276734636\n",
            "100 - 93924707\n",
            "200 - 607075256\n",
            "300 - 261637205\n",
            "400 - 464490188\n",
            "500 - 230532762\n",
            "600 - 340988465\n",
            "700 - 529680051\n",
            "800 - 579124903\n",
            "900 - 121452470\n",
            "1000 - 430189952\n",
            "1100 - 615466514\n",
            "1200 - 116391100\n",
            "1300 - 204702899\n"
          ]
        },
        {
          "output_type": "error",
          "ename": "KeyboardInterrupt",
          "evalue": "ignored",
          "traceback": [
            "\u001b[0;31m---------------------------------------------------------------------------\u001b[0m",
            "\u001b[0;31mKeyboardInterrupt\u001b[0m                         Traceback (most recent call last)",
            "\u001b[0;32m<ipython-input-19-14c7e09e991c>\u001b[0m in \u001b[0;36m<module>\u001b[0;34m()\u001b[0m\n\u001b[1;32m      9\u001b[0m   \u001b[0;32mif\u001b[0m \u001b[0mindex\u001b[0m \u001b[0;34m%\u001b[0m \u001b[0;36m100\u001b[0m \u001b[0;34m==\u001b[0m \u001b[0;36m0\u001b[0m\u001b[0;34m:\u001b[0m  \u001b[0;31m# Prints the progress\u001b[0m\u001b[0;34m\u001b[0m\u001b[0;34m\u001b[0m\u001b[0m\n\u001b[1;32m     10\u001b[0m       \u001b[0mprint\u001b[0m\u001b[0;34m(\u001b[0m\u001b[0;34mf\"{index} - {file_name}\"\u001b[0m\u001b[0;34m)\u001b[0m\u001b[0;34m\u001b[0m\u001b[0;34m\u001b[0m\u001b[0m\n\u001b[0;32m---> 11\u001b[0;31m   \u001b[0mfeatures\u001b[0m \u001b[0;34m=\u001b[0m \u001b[0mextract_text_data_features_todf\u001b[0m\u001b[0;34m(\u001b[0m\u001b[0mextract_file_text_data\u001b[0m\u001b[0;34m(\u001b[0m\u001b[0;34mf\"revisiondata/{file_name}\"\u001b[0m\u001b[0;34m)\u001b[0m\u001b[0;34m)\u001b[0m\u001b[0;34m\u001b[0m\u001b[0;34m\u001b[0m\u001b[0m\n\u001b[0m\u001b[1;32m     12\u001b[0m   \u001b[0mrow\u001b[0m \u001b[0;34m=\u001b[0m \u001b[0;34m[\u001b[0m\u001b[0;34m]\u001b[0m\u001b[0;34m\u001b[0m\u001b[0;34m\u001b[0m\u001b[0m\n\u001b[1;32m     13\u001b[0m   \u001b[0mrow\u001b[0m\u001b[0;34m.\u001b[0m\u001b[0mappend\u001b[0m\u001b[0;34m(\u001b[0m\u001b[0mindex\u001b[0m\u001b[0;34m)\u001b[0m\u001b[0;34m\u001b[0m\u001b[0;34m\u001b[0m\u001b[0m\n",
            "\u001b[0;32m<ipython-input-16-10592346aebd>\u001b[0m in \u001b[0;36mextract_text_data_features_todf\u001b[0;34m(text)\u001b[0m\n\u001b[1;32m     30\u001b[0m   \u001b[0mcoleman_liau_index\u001b[0m \u001b[0;34m=\u001b[0m \u001b[0mtextstat\u001b[0m\u001b[0;34m.\u001b[0m\u001b[0mcoleman_liau_index\u001b[0m\u001b[0;34m(\u001b[0m\u001b[0mtext\u001b[0m\u001b[0;34m)\u001b[0m  \u001b[0;31m# Coleman-Liau index\u001b[0m\u001b[0;34m\u001b[0m\u001b[0;34m\u001b[0m\u001b[0m\n\u001b[1;32m     31\u001b[0m   \u001b[0mautomated_readability_index\u001b[0m \u001b[0;34m=\u001b[0m \u001b[0mtextstat\u001b[0m\u001b[0;34m.\u001b[0m\u001b[0mautomated_readability_index\u001b[0m\u001b[0;34m(\u001b[0m\u001b[0mtext\u001b[0m\u001b[0;34m)\u001b[0m  \u001b[0;31m# Automated readability index\u001b[0m\u001b[0;34m\u001b[0m\u001b[0;34m\u001b[0m\u001b[0m\n\u001b[0;32m---> 32\u001b[0;31m   \u001b[0mdifficult_words\u001b[0m \u001b[0;34m=\u001b[0m \u001b[0mtextstat\u001b[0m\u001b[0;34m.\u001b[0m\u001b[0mdifficult_words\u001b[0m\u001b[0;34m(\u001b[0m\u001b[0mtext\u001b[0m\u001b[0;34m)\u001b[0m  \u001b[0;31m# Difficult words\u001b[0m\u001b[0;34m\u001b[0m\u001b[0;34m\u001b[0m\u001b[0m\n\u001b[0m\u001b[1;32m     33\u001b[0m   \u001b[0mdale_chall_readability_score\u001b[0m \u001b[0;34m=\u001b[0m \u001b[0mtextstat\u001b[0m\u001b[0;34m.\u001b[0m\u001b[0mdale_chall_readability_score\u001b[0m\u001b[0;34m(\u001b[0m\u001b[0mtext\u001b[0m\u001b[0;34m)\u001b[0m  \u001b[0;31m# Dale-Chall score\u001b[0m\u001b[0;34m\u001b[0m\u001b[0;34m\u001b[0m\u001b[0m\n\u001b[1;32m     34\u001b[0m   \u001b[0mlinsear_write_formula\u001b[0m \u001b[0;34m=\u001b[0m \u001b[0mtextstat\u001b[0m\u001b[0;34m.\u001b[0m\u001b[0mlinsear_write_formula\u001b[0m\u001b[0;34m(\u001b[0m\u001b[0mtext\u001b[0m\u001b[0;34m)\u001b[0m  \u001b[0;31m# Linsear write formula\u001b[0m\u001b[0;34m\u001b[0m\u001b[0;34m\u001b[0m\u001b[0m\n",
            "\u001b[0;32m/usr/local/lib/python3.7/dist-packages/textstat/textstat.py\u001b[0m in \u001b[0;36mdifficult_words\u001b[0;34m(self, text, syllable_threshold)\u001b[0m\n\u001b[1;32m    918\u001b[0m \u001b[0;34m\u001b[0m\u001b[0m\n\u001b[1;32m    919\u001b[0m         \"\"\"\n\u001b[0;32m--> 920\u001b[0;31m         \u001b[0;32mreturn\u001b[0m \u001b[0mlen\u001b[0m\u001b[0;34m(\u001b[0m\u001b[0mself\u001b[0m\u001b[0;34m.\u001b[0m\u001b[0mdifficult_words_list\u001b[0m\u001b[0;34m(\u001b[0m\u001b[0mtext\u001b[0m\u001b[0;34m,\u001b[0m \u001b[0msyllable_threshold\u001b[0m\u001b[0;34m)\u001b[0m\u001b[0;34m)\u001b[0m\u001b[0;34m\u001b[0m\u001b[0;34m\u001b[0m\u001b[0m\n\u001b[0m\u001b[1;32m    921\u001b[0m \u001b[0;34m\u001b[0m\u001b[0m\n\u001b[1;32m    922\u001b[0m     \u001b[0;34m@\u001b[0m\u001b[0mlru_cache\u001b[0m\u001b[0;34m(\u001b[0m\u001b[0mmaxsize\u001b[0m\u001b[0;34m=\u001b[0m\u001b[0;36m128\u001b[0m\u001b[0;34m)\u001b[0m\u001b[0;34m\u001b[0m\u001b[0;34m\u001b[0m\u001b[0m\n",
            "\u001b[0;32m/usr/local/lib/python3.7/dist-packages/textstat/textstat.py\u001b[0m in \u001b[0;36mdifficult_words_list\u001b[0;34m(self, text, syllable_threshold)\u001b[0m\n\u001b[1;32m    941\u001b[0m         \"\"\"\n\u001b[1;32m    942\u001b[0m         \u001b[0mwords\u001b[0m \u001b[0;34m=\u001b[0m \u001b[0mset\u001b[0m\u001b[0;34m(\u001b[0m\u001b[0mre\u001b[0m\u001b[0;34m.\u001b[0m\u001b[0mfindall\u001b[0m\u001b[0;34m(\u001b[0m\u001b[0;34mr\"[\\w\\='‘’]+\"\u001b[0m\u001b[0;34m,\u001b[0m \u001b[0mtext\u001b[0m\u001b[0;34m.\u001b[0m\u001b[0mlower\u001b[0m\u001b[0;34m(\u001b[0m\u001b[0;34m)\u001b[0m\u001b[0;34m)\u001b[0m\u001b[0;34m)\u001b[0m\u001b[0;34m\u001b[0m\u001b[0;34m\u001b[0m\u001b[0m\n\u001b[0;32m--> 943\u001b[0;31m         diff_words = [word for word in words\n\u001b[0m\u001b[1;32m    944\u001b[0m                       if self.is_difficult_word(word, syllable_threshold)]\n\u001b[1;32m    945\u001b[0m         \u001b[0;32mreturn\u001b[0m \u001b[0mdiff_words\u001b[0m\u001b[0;34m\u001b[0m\u001b[0;34m\u001b[0m\u001b[0m\n",
            "\u001b[0;32m/usr/local/lib/python3.7/dist-packages/textstat/textstat.py\u001b[0m in \u001b[0;36m<listcomp>\u001b[0;34m(.0)\u001b[0m\n\u001b[1;32m    942\u001b[0m         \u001b[0mwords\u001b[0m \u001b[0;34m=\u001b[0m \u001b[0mset\u001b[0m\u001b[0;34m(\u001b[0m\u001b[0mre\u001b[0m\u001b[0;34m.\u001b[0m\u001b[0mfindall\u001b[0m\u001b[0;34m(\u001b[0m\u001b[0;34mr\"[\\w\\='‘’]+\"\u001b[0m\u001b[0;34m,\u001b[0m \u001b[0mtext\u001b[0m\u001b[0;34m.\u001b[0m\u001b[0mlower\u001b[0m\u001b[0;34m(\u001b[0m\u001b[0;34m)\u001b[0m\u001b[0;34m)\u001b[0m\u001b[0;34m)\u001b[0m\u001b[0;34m\u001b[0m\u001b[0;34m\u001b[0m\u001b[0m\n\u001b[1;32m    943\u001b[0m         diff_words = [word for word in words\n\u001b[0;32m--> 944\u001b[0;31m                       if self.is_difficult_word(word, syllable_threshold)]\n\u001b[0m\u001b[1;32m    945\u001b[0m         \u001b[0;32mreturn\u001b[0m \u001b[0mdiff_words\u001b[0m\u001b[0;34m\u001b[0m\u001b[0;34m\u001b[0m\u001b[0m\n\u001b[1;32m    946\u001b[0m \u001b[0;34m\u001b[0m\u001b[0m\n",
            "\u001b[0;32m/usr/local/lib/python3.7/dist-packages/textstat/textstat.py\u001b[0m in \u001b[0;36mis_difficult_word\u001b[0;34m(self, word, syllable_threshold)\u001b[0m\n\u001b[1;32m    973\u001b[0m         \u001b[0;32mif\u001b[0m \u001b[0mword\u001b[0m \u001b[0;32min\u001b[0m \u001b[0measy_word_set\u001b[0m\u001b[0;34m:\u001b[0m\u001b[0;34m\u001b[0m\u001b[0;34m\u001b[0m\u001b[0m\n\u001b[1;32m    974\u001b[0m             \u001b[0;32mreturn\u001b[0m \u001b[0;32mFalse\u001b[0m\u001b[0;34m\u001b[0m\u001b[0;34m\u001b[0m\u001b[0m\n\u001b[0;32m--> 975\u001b[0;31m         \u001b[0;32mif\u001b[0m \u001b[0mself\u001b[0m\u001b[0;34m.\u001b[0m\u001b[0msyllable_count\u001b[0m\u001b[0;34m(\u001b[0m\u001b[0mword\u001b[0m\u001b[0;34m)\u001b[0m \u001b[0;34m<\u001b[0m \u001b[0msyllable_threshold\u001b[0m\u001b[0;34m:\u001b[0m\u001b[0;34m\u001b[0m\u001b[0;34m\u001b[0m\u001b[0m\n\u001b[0m\u001b[1;32m    976\u001b[0m             \u001b[0;32mreturn\u001b[0m \u001b[0;32mFalse\u001b[0m\u001b[0;34m\u001b[0m\u001b[0;34m\u001b[0m\u001b[0m\n\u001b[1;32m    977\u001b[0m         \u001b[0;32mreturn\u001b[0m \u001b[0;32mTrue\u001b[0m\u001b[0;34m\u001b[0m\u001b[0;34m\u001b[0m\u001b[0m\n",
            "\u001b[0;32m/usr/local/lib/python3.7/dist-packages/textstat/textstat.py\u001b[0m in \u001b[0;36msyllable_count\u001b[0;34m(self, text, lang)\u001b[0m\n\u001b[1;32m    354\u001b[0m         \u001b[0mcount\u001b[0m \u001b[0;34m=\u001b[0m \u001b[0;36m0\u001b[0m\u001b[0;34m\u001b[0m\u001b[0;34m\u001b[0m\u001b[0m\n\u001b[1;32m    355\u001b[0m         \u001b[0;32mfor\u001b[0m \u001b[0mword\u001b[0m \u001b[0;32min\u001b[0m \u001b[0mtext\u001b[0m\u001b[0;34m.\u001b[0m\u001b[0msplit\u001b[0m\u001b[0;34m(\u001b[0m\u001b[0;34m)\u001b[0m\u001b[0;34m:\u001b[0m\u001b[0;34m\u001b[0m\u001b[0;34m\u001b[0m\u001b[0m\n\u001b[0;32m--> 356\u001b[0;31m             \u001b[0mcount\u001b[0m \u001b[0;34m+=\u001b[0m \u001b[0mlen\u001b[0m\u001b[0;34m(\u001b[0m\u001b[0mself\u001b[0m\u001b[0;34m.\u001b[0m\u001b[0mpyphen\u001b[0m\u001b[0;34m.\u001b[0m\u001b[0mpositions\u001b[0m\u001b[0;34m(\u001b[0m\u001b[0mword\u001b[0m\u001b[0;34m)\u001b[0m\u001b[0;34m)\u001b[0m \u001b[0;34m+\u001b[0m \u001b[0;36m1\u001b[0m\u001b[0;34m\u001b[0m\u001b[0;34m\u001b[0m\u001b[0m\n\u001b[0m\u001b[1;32m    357\u001b[0m         \u001b[0;32mreturn\u001b[0m \u001b[0mcount\u001b[0m\u001b[0;34m\u001b[0m\u001b[0;34m\u001b[0m\u001b[0m\n\u001b[1;32m    358\u001b[0m \u001b[0;34m\u001b[0m\u001b[0m\n",
            "\u001b[0;32m/usr/local/lib/python3.7/dist-packages/pyphen/__init__.py\u001b[0m in \u001b[0;36mpositions\u001b[0;34m(self, word)\u001b[0m\n\u001b[1;32m    233\u001b[0m         \"\"\"\n\u001b[1;32m    234\u001b[0m         \u001b[0mright\u001b[0m \u001b[0;34m=\u001b[0m \u001b[0mlen\u001b[0m\u001b[0;34m(\u001b[0m\u001b[0mword\u001b[0m\u001b[0;34m)\u001b[0m \u001b[0;34m-\u001b[0m \u001b[0mself\u001b[0m\u001b[0;34m.\u001b[0m\u001b[0mright\u001b[0m\u001b[0;34m\u001b[0m\u001b[0;34m\u001b[0m\u001b[0m\n\u001b[0;32m--> 235\u001b[0;31m         \u001b[0;32mreturn\u001b[0m \u001b[0;34m[\u001b[0m\u001b[0mi\u001b[0m \u001b[0;32mfor\u001b[0m \u001b[0mi\u001b[0m \u001b[0;32min\u001b[0m \u001b[0mself\u001b[0m\u001b[0;34m.\u001b[0m\u001b[0mhd\u001b[0m\u001b[0;34m.\u001b[0m\u001b[0mpositions\u001b[0m\u001b[0;34m(\u001b[0m\u001b[0mword\u001b[0m\u001b[0;34m)\u001b[0m \u001b[0;32mif\u001b[0m \u001b[0mself\u001b[0m\u001b[0;34m.\u001b[0m\u001b[0mleft\u001b[0m \u001b[0;34m<=\u001b[0m \u001b[0mi\u001b[0m \u001b[0;34m<=\u001b[0m \u001b[0mright\u001b[0m\u001b[0;34m]\u001b[0m\u001b[0;34m\u001b[0m\u001b[0;34m\u001b[0m\u001b[0m\n\u001b[0m\u001b[1;32m    236\u001b[0m \u001b[0;34m\u001b[0m\u001b[0m\n\u001b[1;32m    237\u001b[0m     \u001b[0;32mdef\u001b[0m \u001b[0miterate\u001b[0m\u001b[0;34m(\u001b[0m\u001b[0mself\u001b[0m\u001b[0;34m,\u001b[0m \u001b[0mword\u001b[0m\u001b[0;34m)\u001b[0m\u001b[0;34m:\u001b[0m\u001b[0;34m\u001b[0m\u001b[0;34m\u001b[0m\u001b[0m\n",
            "\u001b[0;32m/usr/local/lib/python3.7/dist-packages/pyphen/__init__.py\u001b[0m in \u001b[0;36mpositions\u001b[0;34m(self, word)\u001b[0m\n\u001b[1;32m    153\u001b[0m         \u001b[0mself\u001b[0m\u001b[0;34m.\u001b[0m\u001b[0mmaxlen\u001b[0m \u001b[0;34m=\u001b[0m \u001b[0mmax\u001b[0m\u001b[0;34m(\u001b[0m\u001b[0mlen\u001b[0m\u001b[0;34m(\u001b[0m\u001b[0mkey\u001b[0m\u001b[0;34m)\u001b[0m \u001b[0;32mfor\u001b[0m \u001b[0mkey\u001b[0m \u001b[0;32min\u001b[0m \u001b[0mself\u001b[0m\u001b[0;34m.\u001b[0m\u001b[0mpatterns\u001b[0m\u001b[0;34m)\u001b[0m\u001b[0;34m\u001b[0m\u001b[0;34m\u001b[0m\u001b[0m\n\u001b[1;32m    154\u001b[0m \u001b[0;34m\u001b[0m\u001b[0m\n\u001b[0;32m--> 155\u001b[0;31m     \u001b[0;32mdef\u001b[0m \u001b[0mpositions\u001b[0m\u001b[0;34m(\u001b[0m\u001b[0mself\u001b[0m\u001b[0;34m,\u001b[0m \u001b[0mword\u001b[0m\u001b[0;34m)\u001b[0m\u001b[0;34m:\u001b[0m\u001b[0;34m\u001b[0m\u001b[0;34m\u001b[0m\u001b[0m\n\u001b[0m\u001b[1;32m    156\u001b[0m         \"\"\"Get a list of positions where the word can be hyphenated.\n\u001b[1;32m    157\u001b[0m \u001b[0;34m\u001b[0m\u001b[0m\n",
            "\u001b[0;31mKeyboardInterrupt\u001b[0m: "
          ]
        }
      ]
    },
    {
      "cell_type": "code",
      "source": [
        "# Persisting the processed features\n",
        "df.write.json(\"/content/drive/MyDrive/Big data project/dataset/processed_dataset_w_features_json6\")"
      ],
      "metadata": {
        "id": "d4Am21U8vcy1"
      },
      "execution_count": null,
      "outputs": []
    },
    {
      "cell_type": "code",
      "source": [
        "from pyspark.sql.functions import udf\n",
        "\n",
        "def quality_level(rating):\n",
        "  \"\"\"\n",
        "  Converts the rating to High or Low and returns the value\n",
        "  \"\"\"\n",
        "  if rating in [\"FA\", \"GA\"]:\n",
        "    return \"High\"\n",
        "  return \"Low\"\n",
        "\n",
        "# User defined function to automaticaly add the quality level\n",
        "quality_level_udf=udf(quality_level)"
      ],
      "metadata": {
        "id": "97-SghivV1OU"
      },
      "execution_count": null,
      "outputs": []
    },
    {
      "cell_type": "markdown",
      "source": [
        "Joining the extracted features with the grades, the revision id"
      ],
      "metadata": {
        "id": "P7XNBbMdd5c3"
      }
    },
    {
      "cell_type": "code",
      "source": [
        "#Joining the extracted features with the grades, the revision id\n",
        "full_df = df.join(rating_df, df.article_revid==rating_df.article_revid).select([\"index\", df.article_revid, \"article_pageid\", \"talk_pageid\", \"talk_revid\", rating_df.rating, \"features\"] + features_list)\n",
        "full_df = full_df.withColumn(\"quality\", quality_level_udf(full_df.rating))\n",
        "training_df = df.join(training_rating_df, df.article_revid==training_rating_df.article_revid).select([\"index\", df.article_revid, \"article_pageid\", \"talk_pageid\", \"talk_revid\", training_rating_df.rating, \"features\"] + features_list)\n",
        "training_df = training_df.withColumn(\"quality\", quality_level_udf(training_df.rating))\n",
        "testing_df = df.join(test_rating_df, df.article_revid==test_rating_df.article_revid).select([\"index\", df.article_revid, \"article_pageid\", \"talk_pageid\", \"talk_revid\", test_rating_df.rating, \"features\"] + features_list)\n",
        "testing_df = testing_df.withColumn(\"quality\", quality_level_udf(testing_df.rating))\n",
        "full_df.printSchema()\n",
        "full_df.head(5)"
      ],
      "metadata": {
        "id": "y4xptwd_d0pq",
        "colab": {
          "base_uri": "https://localhost:8080/"
        },
        "outputId": "d27dffc4-1850-49b9-d2b2-d48b452803cd"
      },
      "execution_count": null,
      "outputs": [
        {
          "output_type": "stream",
          "name": "stdout",
          "text": [
            "root\n",
            " |-- index: integer (nullable = true)\n",
            " |-- article_revid: string (nullable = true)\n",
            " |-- article_pageid: string (nullable = true)\n",
            " |-- talk_pageid: string (nullable = true)\n",
            " |-- talk_revid: string (nullable = true)\n",
            " |-- rating: string (nullable = true)\n",
            " |-- features: array (nullable = true)\n",
            " |    |-- element: double (containsNull = true)\n",
            " |-- content_length: double (nullable = true)\n",
            " |-- n_words: double (nullable = true)\n",
            " |-- num_references: double (nullable = true)\n",
            " |-- num_page_links: double (nullable = true)\n",
            " |-- num_categories: double (nullable = true)\n",
            " |-- num_images_length: double (nullable = true)\n",
            " |-- has_infobox: double (nullable = true)\n",
            " |-- flesch_reading_ease: double (nullable = true)\n",
            " |-- flesch_kincaid_grade: double (nullable = true)\n",
            " |-- smog_index: double (nullable = true)\n",
            " |-- coleman_liau_index: double (nullable = true)\n",
            " |-- automated_readability_index: double (nullable = true)\n",
            " |-- difficult_words: double (nullable = true)\n",
            " |-- dale_chall_readability_score: double (nullable = true)\n",
            " |-- linsear_write_formula: double (nullable = true)\n",
            " |-- gunning_fog: double (nullable = true)\n",
            " |-- num_lv2_headings: double (nullable = true)\n",
            " |-- num_lv3_headings: double (nullable = true)\n",
            " |-- avg_word: double (nullable = true)\n",
            " |-- words_per_sent: double (nullable = true)\n",
            " |-- nb_lang: double (nullable = true)\n",
            " |-- nb_info_items: double (nullable = true)\n",
            " |-- nb_lead_paragraphs: double (nullable = true)\n",
            " |-- quality: string (nullable = true)\n",
            "\n"
          ]
        },
        {
          "output_type": "execute_result",
          "data": {
            "text/plain": [
              "[Row(index=96, article_revid='687110171', article_pageid='44839612', talk_pageid='44842259', talk_revid='709521001', rating='B', features=[9.261413642160184, 1464.0, 0.0, 0.0, 10.0, 0.0, 1.0, 25.8, 14.6, 16.2, 18.56, 21.8, 247.0, 9.29, 22.333333333333332, 12.35, 2.0, 0.0, 6.18, 20.0, 0.0, 7.0, 1.0], content_length=9.261413642160184, n_words=1464.0, num_references=0.0, num_page_links=0.0, num_categories=10.0, num_images_length=0.0, has_infobox=1.0, flesch_reading_ease=25.8, flesch_kincaid_grade=14.6, smog_index=16.2, coleman_liau_index=18.56, automated_readability_index=21.8, difficult_words=247.0, dale_chall_readability_score=9.29, linsear_write_formula=22.333333333333332, gunning_fog=12.35, num_lv2_headings=2.0, num_lv3_headings=0.0, avg_word=6.18, words_per_sent=20.0, nb_lang=0.0, nb_info_items=7.0, nb_lead_paragraphs=1.0, quality='Low'),\n",
              " Row(index=173, article_revid='276553443', article_pageid='3066317', talk_pageid='10037044', talk_revid='276557527', rating='GA', features=[9.530828396153142, 1894.0, 0.6931471805599453, 0.0, 3.0, 0.0, 0.0, 47.52, 12.5, 13.2, 15.21, 20.4, 279.0, 9.26, 8.11111111111111, 11.59, 5.0, 2.0, 5.55, 23.6, 0.0, 0.0, 1.0], content_length=9.530828396153142, n_words=1894.0, num_references=0.6931471805599453, num_page_links=0.0, num_categories=3.0, num_images_length=0.0, has_infobox=0.0, flesch_reading_ease=47.52, flesch_kincaid_grade=12.5, smog_index=13.2, coleman_liau_index=15.21, automated_readability_index=20.4, difficult_words=279.0, dale_chall_readability_score=9.26, linsear_write_formula=8.11111111111111, gunning_fog=11.59, num_lv2_headings=5.0, num_lv3_headings=2.0, avg_word=5.55, words_per_sent=23.6, nb_lang=0.0, nb_info_items=0.0, nb_lead_paragraphs=1.0, quality='High'),\n",
              " Row(index=217, article_revid='139275428', article_pageid='6457725', talk_pageid='9162038', talk_revid='140660373', rating='B', features=[9.121071904218, 1322.0, 1.791759469228055, 0.0, 1.0, 0.0002186748313983193, 0.0, 39.33, 11.5, 12.5, 15.59, 16.5, 237.0, 9.44, 14.2, 9.4, 8.0, 0.0, 5.77, 15.0, 0.0, 0.0, 2.0], content_length=9.121071904218, n_words=1322.0, num_references=1.791759469228055, num_page_links=0.0, num_categories=1.0, num_images_length=0.0002186748313983193, has_infobox=0.0, flesch_reading_ease=39.33, flesch_kincaid_grade=11.5, smog_index=12.5, coleman_liau_index=15.59, automated_readability_index=16.5, difficult_words=237.0, dale_chall_readability_score=9.44, linsear_write_formula=14.2, gunning_fog=9.4, num_lv2_headings=8.0, num_lv3_headings=0.0, avg_word=5.77, words_per_sent=15.0, nb_lang=0.0, nb_info_items=0.0, nb_lead_paragraphs=2.0, quality='Low'),\n",
              " Row(index=417, article_revid='752827107', article_pageid='52462898', talk_pageid='52463190', talk_revid='752827657', rating='C', features=[7.754052639035757, 302.0, 0.0, 0.0, 7.0, 0.0, 0.0, 34.97, 13.2, 13.2, 17.93, 21.2, 69.0, 11.24, 7.571428571428571, 11.31, 2.0, 0.0, 6.07, 19.3, 0.0, 0.0, 4.0], content_length=7.754052639035757, n_words=302.0, num_references=0.0, num_page_links=0.0, num_categories=7.0, num_images_length=0.0, has_infobox=0.0, flesch_reading_ease=34.97, flesch_kincaid_grade=13.2, smog_index=13.2, coleman_liau_index=17.93, automated_readability_index=21.2, difficult_words=69.0, dale_chall_readability_score=11.24, linsear_write_formula=7.571428571428571, gunning_fog=11.31, num_lv2_headings=2.0, num_lv3_headings=0.0, avg_word=6.07, words_per_sent=19.3, nb_lang=0.0, nb_info_items=0.0, nb_lead_paragraphs=4.0, quality='Low'),\n",
              " Row(index=638, article_revid='476557970', article_pageid='182319', talk_pageid='4596270', talk_revid='478912301', rating='C', features=[9.02905827475689, 1231.0, 0.0, 1.0, 6.0, 0.00023975066046283126, 1.0, 43.12, 12.1, 14.0, 19.61, 22.4, 225.0, 10.76, 22.0, 12.33, 4.0, 0.0, 6.36, 19.6, 0.0, 31.0, 3.0], content_length=9.02905827475689, n_words=1231.0, num_references=0.0, num_page_links=1.0, num_categories=6.0, num_images_length=0.00023975066046283126, has_infobox=1.0, flesch_reading_ease=43.12, flesch_kincaid_grade=12.1, smog_index=14.0, coleman_liau_index=19.61, automated_readability_index=22.4, difficult_words=225.0, dale_chall_readability_score=10.76, linsear_write_formula=22.0, gunning_fog=12.33, num_lv2_headings=4.0, num_lv3_headings=0.0, avg_word=6.36, words_per_sent=19.6, nb_lang=0.0, nb_info_items=31.0, nb_lead_paragraphs=3.0, quality='Low')]"
            ]
          },
          "metadata": {},
          "execution_count": 93
        }
      ]
    },
    {
      "cell_type": "code",
      "source": [
        "# Persisting the extracted features with their respective grades for further reuse\n",
        "full_df.write.json(\"/content/drive/MyDrive/Big data project/dataset/full_dataset_w_features_json6\")\n",
        "training_df.write.json(\"/content/drive/MyDrive/Big data project/dataset/training_dataset_w_features_json6\")\n",
        "testing_df.write.json(\"/content/drive/MyDrive/Big data project/dataset/test_dataset_w_features_json6\")"
      ],
      "metadata": {
        "id": "gSGujcCaxfVC"
      },
      "execution_count": null,
      "outputs": []
    },
    {
      "cell_type": "markdown",
      "source": [
        "Loading saved datasets"
      ],
      "metadata": {
        "id": "4E2hYagRKfSG"
      }
    },
    {
      "cell_type": "code",
      "source": [
        "from pyspark.sql.dataframe import DataFrame\n",
        "from pyspark.sql.types import StructField, StringType, StructType, IntegerType, DoubleType, ArrayType\n",
        "\n",
        "schema = StructType([ \\\n",
        "    StructField(\"index\", IntegerType(), True), \\\n",
        "    StructField(\"article_revid\",StringType(),True), \\\n",
        "    StructField(\"features\", ArrayType(DoubleType()),True), \\\n",
        "    # StructField(\"rating\",StringType(),True), \\\n",
        "  ] + [StructField(field_name, DoubleType(), True) for field_name in features_list])\n",
        "full_df = spark.read.json(\"/content/drive/MyDrive/Big data project/dataset/full_dataset_w_features_json6\")\n",
        "training_df = spark.read.json(\"/content/drive/MyDrive/Big data project/dataset/training_dataset_w_features_json6\")\n",
        "testing_df = spark.read.json(\"/content/drive/MyDrive/Big data project/dataset/test_dataset_w_features_json6\")"
      ],
      "metadata": {
        "id": "CbSu78vrKh5P"
      },
      "execution_count": null,
      "outputs": []
    },
    {
      "cell_type": "code",
      "source": [
        "# print(df.count())\n",
        "# print(training_rating_df.count())\n",
        "print(training_df.count())\n",
        "print(testing_df.count())\n",
        "print(full_df.count())\n",
        "# print(rating_df.count())"
      ],
      "metadata": {
        "id": "OnaxUaU-foB-",
        "colab": {
          "base_uri": "https://localhost:8080/"
        },
        "outputId": "557dc38b-938b-4b6d-9ca5-cd06e16531d9"
      },
      "execution_count": null,
      "outputs": [
        {
          "output_type": "stream",
          "name": "stdout",
          "text": [
            "29174\n",
            "3286\n",
            "32460\n"
          ]
        }
      ]
    },
    {
      "cell_type": "code",
      "source": [
        "full_df.groupBy(\"rating\").count().collect()"
      ],
      "metadata": {
        "id": "ySWuliOwgxW4",
        "colab": {
          "base_uri": "https://localhost:8080/"
        },
        "outputId": "5ede57ac-de5e-4c73-f31b-0fe58cf2f795"
      },
      "execution_count": null,
      "outputs": [
        {
          "output_type": "execute_result",
          "data": {
            "text/plain": [
              "[Row(rating='Stub', count=5493),\n",
              " Row(rating='B', count=5492),\n",
              " Row(rating='C', count=5492),\n",
              " Row(rating='Start', count=5490),\n",
              " Row(rating='FA', count=4996),\n",
              " Row(rating='GA', count=5497)]"
            ]
          },
          "metadata": {},
          "execution_count": 8
        }
      ]
    },
    {
      "cell_type": "code",
      "source": [
        "training_df.groupBy(\"rating\").count().collect()"
      ],
      "metadata": {
        "id": "efCXT86oEyYe",
        "colab": {
          "base_uri": "https://localhost:8080/"
        },
        "outputId": "3d3afbe7-227f-4589-8e9c-f5a946265c79"
      },
      "execution_count": null,
      "outputs": [
        {
          "output_type": "execute_result",
          "data": {
            "text/plain": [
              "[Row(rating='Stub', count=4914),\n",
              " Row(rating='B', count=4945),\n",
              " Row(rating='C', count=4936),\n",
              " Row(rating='Start', count=4939),\n",
              " Row(rating='FA', count=4492),\n",
              " Row(rating='GA', count=4948)]"
            ]
          },
          "metadata": {},
          "execution_count": 9
        }
      ]
    },
    {
      "cell_type": "code",
      "source": [
        "testing_df.groupBy(\"rating\").count().collect()"
      ],
      "metadata": {
        "id": "xmft2mi-E04y",
        "colab": {
          "base_uri": "https://localhost:8080/"
        },
        "outputId": "db926b95-264b-4c2a-e506-5acc03d6015f"
      },
      "execution_count": null,
      "outputs": [
        {
          "output_type": "execute_result",
          "data": {
            "text/plain": [
              "[Row(rating='Stub', count=579),\n",
              " Row(rating='B', count=547),\n",
              " Row(rating='C', count=556),\n",
              " Row(rating='Start', count=551),\n",
              " Row(rating='FA', count=504),\n",
              " Row(rating='GA', count=549)]"
            ]
          },
          "metadata": {},
          "execution_count": 10
        }
      ]
    },
    {
      "cell_type": "code",
      "source": [
        "full_df.groupBy(\"quality\").count().collect()"
      ],
      "metadata": {
        "id": "S8dMvNVAYsOa",
        "colab": {
          "base_uri": "https://localhost:8080/"
        },
        "outputId": "bc956db4-d1ba-4dcb-b10e-fa7605cfb3d3"
      },
      "execution_count": null,
      "outputs": [
        {
          "output_type": "execute_result",
          "data": {
            "text/plain": [
              "[Row(quality='High', count=10493), Row(quality='Low', count=21967)]"
            ]
          },
          "metadata": {},
          "execution_count": 11
        }
      ]
    },
    {
      "cell_type": "code",
      "source": [
        "training_df.groupBy(\"quality\").count().collect()"
      ],
      "metadata": {
        "id": "mRkszvx2Yvnm",
        "colab": {
          "base_uri": "https://localhost:8080/"
        },
        "outputId": "5cafcc26-486d-4ca7-a03e-fac59c202adf"
      },
      "execution_count": null,
      "outputs": [
        {
          "output_type": "execute_result",
          "data": {
            "text/plain": [
              "[Row(quality='High', count=9440), Row(quality='Low', count=19734)]"
            ]
          },
          "metadata": {},
          "execution_count": 12
        }
      ]
    },
    {
      "cell_type": "code",
      "source": [
        "testing_df.groupBy(\"quality\").count().collect()"
      ],
      "metadata": {
        "id": "j3t_Ex-dYwYj",
        "colab": {
          "base_uri": "https://localhost:8080/"
        },
        "outputId": "7288f104-bc33-4112-bf56-5b7cf7a631e6"
      },
      "execution_count": null,
      "outputs": [
        {
          "output_type": "execute_result",
          "data": {
            "text/plain": [
              "[Row(quality='High', count=1053), Row(quality='Low', count=2233)]"
            ]
          },
          "metadata": {},
          "execution_count": 13
        }
      ]
    },
    {
      "cell_type": "code",
      "source": [
        "# Plot histogram\n",
        "import matplotlib.pyplot as plt\n",
        "def plot_histogram(items_list, title=\"Histogram\", xlabel=\"Rating\", ylabel=\"Value\"):\n",
        "  \"\"\"\n",
        "  Takes a list of tuples (rating, value) and plots the corresponding histogram\n",
        "  \"\"\"\n",
        "  plt.figure()\n",
        "  items_list_ = [(row.rating, row[1]) for row in items_list]\n",
        "  plt.title(title)\n",
        "  plt.xlabel(xlabel)\n",
        "  plt.ylabel(ylabel)\n",
        "  plt.bar([x[0] for x in items_list_], [x[1] for x in items_list_])\n",
        "  plt.savefig(title.replace(\" \", \"_\").lower())\n",
        "  plt.show()"
      ],
      "metadata": {
        "id": "Mz9FKAZzOA_6"
      },
      "execution_count": null,
      "outputs": []
    },
    {
      "cell_type": "markdown",
      "source": [
        "**Mean of the articles content byte length grouped by rating.**"
      ],
      "metadata": {
        "id": "IrbiAkh-kNyb"
      }
    },
    {
      "cell_type": "code",
      "source": [
        "from pyspark.sql import functions as F\n",
        "content_min_mean_max_df = full_df.groupBy(\"rating\").agg(F.min(full_df.content_length), F.avg(full_df.content_length), F.max(full_df.content_length)).orderBy(\"avg(content_length)\")\n",
        "# content_min_mean_max_df.toPandas()\n",
        "_content_mean = content_min_mean_max_df.select(\"rating\", \"avg(content_length)\").collect()\n",
        "plot_histogram(_content_mean, title=\"Mean of the log-transformed content length\", xlabel=\"Rating\", ylabel=\"Value\")"
      ],
      "metadata": {
        "id": "G-uiMTRylYKE",
        "colab": {
          "base_uri": "https://localhost:8080/",
          "height": 295
        },
        "outputId": "00e85f93-5b5b-4e3b-d144-4edb02955c9a"
      },
      "execution_count": null,
      "outputs": [
        {
          "output_type": "display_data",
          "data": {
            "text/plain": [
              "<Figure size 432x288 with 1 Axes>"
            ],
            "image/png": "[encoded data removed]"
          },
          "metadata": {
            "needs_background": "light"
          }
        }
      ]
    },
    {
      "cell_type": "markdown",
      "source": [
        "**Mean count of words of the articles content grouped by rating.**"
      ],
      "metadata": {
        "id": "Xq7WmYfTuYFh"
      }
    },
    {
      "cell_type": "code",
      "source": [
        "from pyspark.sql import functions as F\n",
        "nwords_min_mean_max_df = full_df.groupBy(\"rating\").agg(F.min(full_df.n_words), F.avg(full_df.n_words), F.max(full_df.n_words)).orderBy(\"avg(n_words)\")\n",
        "# nwords_min_mean_max_df.toPandas()\n",
        "_nwords_mean = nwords_min_mean_max_df.select(\"rating\", \"avg(n_words)\").collect()\n",
        "plot_histogram(_nwords_mean, title=\"Mean of the number of words\", xlabel=\"Rating\", ylabel=\"Value\")"
      ],
      "metadata": {
        "id": "d8JH4cy3mkMc",
        "colab": {
          "base_uri": "https://localhost:8080/",
          "height": 295
        },
        "outputId": "25aabad6-5be6-4414-915a-8dd45ce80e51"
      },
      "execution_count": null,
      "outputs": [
        {
          "output_type": "display_data",
          "data": {
            "text/plain": [
              "<Figure size 432x288 with 1 Axes>"
            ],
            "image/png": "[encoded data removed]"
          },
          "metadata": {
            "needs_background": "light"
          }
        }
      ]
    },
    {
      "cell_type": "markdown",
      "source": [
        "**Mean count of references of the articles grouped by rating.**"
      ],
      "metadata": {
        "id": "hyjPsAQ7nW9u"
      }
    },
    {
      "cell_type": "code",
      "source": [
        "from pyspark.sql import functions as F\n",
        "nrefs_min_mean_max_df = full_df.groupBy(\"rating\").agg(F.min(full_df.num_references), F.avg(full_df.num_references), F.max(full_df.num_references)).orderBy(\"avg(num_references)\")\n",
        "# nrefs_min_mean_max_df.toPandas()\n",
        "_nrefs_mean = nrefs_min_mean_max_df.select(\"rating\", \"avg(num_references)\").collect()\n",
        "plot_histogram(_nrefs_mean, title=\"Mean of the number of references\", xlabel=\"Rating\", ylabel=\"Value\")"
      ],
      "metadata": {
        "id": "QwQQrKW4n1jr",
        "colab": {
          "base_uri": "https://localhost:8080/",
          "height": 295
        },
        "outputId": "00edfd13-e859-44d7-a798-a0aeb985b910"
      },
      "execution_count": null,
      "outputs": [
        {
          "output_type": "display_data",
          "data": {
            "text/plain": [
              "<Figure size 432x288 with 1 Axes>"
            ],
            "image/png": "[encoded data removed]"
          },
          "metadata": {
            "needs_background": "light"
          }
        }
      ]
    },
    {
      "cell_type": "markdown",
      "source": [
        "**Mean count of the number of langauges per rating**"
      ],
      "metadata": {
        "id": "JMn5lPBOVrwY"
      }
    },
    {
      "cell_type": "code",
      "source": [
        "from pyspark.sql import functions as F\n",
        "nlang_min_mean_max_df = full_df.groupBy(\"rating\").agg(F.min(full_df.nb_lang), F.avg(full_df.nb_lang), F.max(full_df.nb_lang)).orderBy(\"avg(nb_lang)\")\n",
        "# nlang_min_mean_max_df.toPandas()\n",
        "_nlang_mean = nlang_min_mean_max_df.select(\"rating\", \"avg(nb_lang)\").collect()\n",
        "plot_histogram(_nlang_mean, title=\"Mean of the number of languages\", xlabel=\"Rating\", ylabel=\"Value\")"
      ],
      "metadata": {
        "colab": {
          "base_uri": "https://localhost:8080/",
          "height": 295
        },
        "id": "w8ZaudhvWABm",
        "outputId": "601c6077-4d69-49f5-ab5d-d8efc3af7603"
      },
      "execution_count": null,
      "outputs": [
        {
          "output_type": "display_data",
          "data": {
            "text/plain": [
              "<Figure size 432x288 with 1 Axes>"
            ],
            "image/png": "[encoded data removed]"
          },
          "metadata": {
            "needs_background": "light"
          }
        }
      ]
    },
    {
      "cell_type": "markdown",
      "source": [
        "**Mean count of the average word length per rating**"
      ],
      "metadata": {
        "id": "a1e8GKSoW7Ca"
      }
    },
    {
      "cell_type": "code",
      "source": [
        "from pyspark.sql import functions as F\n",
        "avg_word_min_mean_max_df = full_df.groupBy(\"rating\").agg(F.min(full_df.avg_word), F.avg(full_df.avg_word), F.max(full_df.avg_word)).orderBy(\"avg(avg_word)\")\n",
        "# avg_word_min_mean_max_df.toPandas()\n",
        "_avg_word_mean = avg_word_min_mean_max_df.select(\"rating\", \"avg(avg_word)\").collect()\n",
        "plot_histogram(_avg_word_mean, title=\"Mean of the words length\", xlabel=\"Rating\", ylabel=\"Value\")"
      ],
      "metadata": {
        "colab": {
          "base_uri": "https://localhost:8080/",
          "height": 295
        },
        "id": "mEPgnzFeXIDi",
        "outputId": "6d1c159f-3305-43c6-bf3d-a51eb5ceb84c"
      },
      "execution_count": null,
      "outputs": [
        {
          "output_type": "display_data",
          "data": {
            "text/plain": [
              "<Figure size 432x288 with 1 Axes>"
            ],
            "image/png": "[encoded data removed]"
          },
          "metadata": {
            "needs_background": "light"
          }
        }
      ]
    },
    {
      "cell_type": "markdown",
      "source": [
        "**Average number of words per sentence**"
      ],
      "metadata": {
        "id": "EGjPvkY6YpNe"
      }
    },
    {
      "cell_type": "code",
      "source": [
        "from pyspark.sql import functions as F\n",
        "words_per_sent_min_mean_max_df = full_df.groupBy(\"rating\").agg(F.min(full_df.words_per_sent), F.avg(full_df.words_per_sent), F.max(full_df.words_per_sent)).orderBy(\"avg(words_per_sent)\")\n",
        "# words_per_sent_min_mean_max_df.toPandas()\n",
        "_words_per_sent_mean = words_per_sent_min_mean_max_df.select(\"rating\", \"avg(words_per_sent)\").collect()\n",
        "plot_histogram(_words_per_sent_mean, title=\"Average words per sentence\", xlabel=\"Rating\", ylabel=\"Value\")"
      ],
      "metadata": {
        "colab": {
          "base_uri": "https://localhost:8080/",
          "height": 295
        },
        "id": "8a72y7NxY6hl",
        "outputId": "5aedbab6-58c6-472f-fdc1-cf6adcf0210a"
      },
      "execution_count": null,
      "outputs": [
        {
          "output_type": "display_data",
          "data": {
            "text/plain": [
              "<Figure size 432x288 with 1 Axes>"
            ],
            "image/png": "[encoded data removed]"
          },
          "metadata": {
            "needs_background": "light"
          }
        }
      ]
    },
    {
      "cell_type": "markdown",
      "source": [
        "**Average number of info lines in infobox**"
      ],
      "metadata": {
        "id": "IEcgdO1fZi_F"
      }
    },
    {
      "cell_type": "code",
      "source": [
        "from pyspark.sql import functions as F\n",
        "nb_info_items_min_mean_max_df = full_df.groupBy(\"rating\").agg(F.min(full_df.nb_info_items), F.avg(full_df.nb_info_items), F.max(full_df.nb_info_items)).orderBy(\"avg(nb_info_items)\")\n",
        "# nb_info_items_min_mean_max_df.toPandas()\n",
        "_nb_info_items_mean = nb_info_items_min_mean_max_df.select(\"rating\", \"avg(nb_info_items)\").collect()\n",
        "plot_histogram(_nb_info_items_mean, title=\"Average number of info lines in infobox\", xlabel=\"Rating\", ylabel=\"Value\")"
      ],
      "metadata": {
        "colab": {
          "base_uri": "https://localhost:8080/",
          "height": 295
        },
        "id": "2VogAe23ZsMB",
        "outputId": "4d068250-1e9d-44b8-9078-774e45cadd74"
      },
      "execution_count": null,
      "outputs": [
        {
          "output_type": "display_data",
          "data": {
            "text/plain": [
              "<Figure size 432x288 with 1 Axes>"
            ],
            "image/png": "[encoded data removed]"
          },
          "metadata": {
            "needs_background": "light"
          }
        }
      ]
    },
    {
      "cell_type": "code",
      "source": [
        "# !tar cvf histograms.tar *.png"
      ],
      "metadata": {
        "id": "BUzSkOz0bppT"
      },
      "execution_count": null,
      "outputs": []
    },
    {
      "cell_type": "markdown",
      "source": [
        "**Average number of paragraphs in the lead section**"
      ],
      "metadata": {
        "id": "rrx3Cs3OaV_S"
      }
    },
    {
      "cell_type": "code",
      "source": [
        "from pyspark.sql import functions as F\n",
        "nb_lead_paragraphs_min_mean_max_df = full_df.groupBy(\"rating\").agg(F.min(full_df.nb_lead_paragraphs), F.avg(full_df.nb_lead_paragraphs), F.max(full_df.nb_lead_paragraphs)).orderBy(\"avg(nb_lead_paragraphs)\")\n",
        "# nb_lead_paragraphs_min_mean_max_df.toPandas()\n",
        "_nb_lead_paragraphs_mean = nb_lead_paragraphs_min_mean_max_df.select(\"rating\", \"avg(nb_lead_paragraphs)\").collect()\n",
        "plot_histogram(_nb_lead_paragraphs_mean, title=\"Paragraphs in lead section\", xlabel=\"Rating\", ylabel=\"Value\")"
      ],
      "metadata": {
        "colab": {
          "base_uri": "https://localhost:8080/",
          "height": 295
        },
        "id": "V1d5Ukt2afF7",
        "outputId": "fe459ac8-6bd9-43af-bec6-c6c15d367339"
      },
      "execution_count": null,
      "outputs": [
        {
          "output_type": "display_data",
          "data": {
            "text/plain": [
              "<Figure size 432x288 with 1 Axes>"
            ],
            "image/png": "[encoded data removed]"
          },
          "metadata": {
            "needs_background": "light"
          }
        }
      ]
    },
    {
      "cell_type": "code",
      "source": [
        "# articles_ordered_ = full_df.select(\"article_revid\", \"rating\", full_df.features[1]).orderBy(\"article_revid\")\n",
        "# articles_ordered_.show(10)\n",
        "# articles_ordered = articles_ordered_.collect()"
      ],
      "metadata": {
        "id": "30RUdV25-jxG"
      },
      "execution_count": null,
      "outputs": []
    },
    {
      "cell_type": "code",
      "source": [
        "# import matplotlib.pyplot as plt\n",
        "# def rating_to_int(rating: str):\n",
        "#   if rating.lower() == 'stub': return 0\n",
        "#   elif rating.lower() == 'start': return 1\n",
        "#   elif rating.lower() == 'c': return 2\n",
        "#   elif rating.lower() == 'b': return 3\n",
        "#   elif rating.lower() == 'ga': return 4\n",
        "#   elif rating.lower() == 'fa': return 5\n",
        "#   else: return 6\n",
        "# x = [row[0] for row in articles_ordered]\n",
        "# y = [row[2] for row in articles_ordered]\n",
        "# c = [rating_to_int(row[1]) for row in articles_ordered]\n",
        "\n",
        "# plt.figure(figsize=(25, 10))\n",
        "# # plt.scatter(list(range(0, 100)), list(range(0, 100)), c=list(range(0, 100)))\n",
        "# plt.scatter(x, y, c=c, cmap=\"viridis_r\")\n",
        "# plt.savefig(\"scatter_plot.png\")\n",
        "# plt.show()"
      ],
      "metadata": {
        "id": "YB9UATC0_p68"
      },
      "execution_count": null,
      "outputs": []
    },
    {
      "cell_type": "code",
      "source": [
        "full_df.toPandas()"
      ],
      "metadata": {
        "id": "jku2niNDvdRY",
        "colab": {
          "base_uri": "https://localhost:8080/",
          "height": 852
        },
        "outputId": "3e4c89e8-5daf-46d7-8f84-dd7c2205779d"
      },
      "execution_count": null,
      "outputs": [
        {
          "output_type": "execute_result",
          "data": {
            "text/plain": [
              "      article_pageid article_revid  automated_readability_index  avg_word  \\\n",
              "0            5659173     292565216                         24.6      6.07   \n",
              "1            6527950     322687528                         33.2      7.38   \n",
              "2           14944697     210660341                         19.3      6.32   \n",
              "3           14522648     417346976                         23.3      6.57   \n",
              "4           14092063     329594952                         38.6      7.98   \n",
              "...              ...           ...                          ...       ...   \n",
              "32455       26064275     341886836                         39.1      8.81   \n",
              "32456       49797375     710247413                         39.6      8.86   \n",
              "32457          59385     277080523                         22.0      6.60   \n",
              "32458        1540309      60693022                         17.3      5.40   \n",
              "32459       40356227     584592026                         27.1      7.44   \n",
              "\n",
              "       coleman_liau_index  content_length  dale_chall_readability_score  \\\n",
              "0                   17.63        7.331060                         11.93   \n",
              "1                   25.52        6.791221                         17.51   \n",
              "2                   18.19       10.497312                          8.99   \n",
              "3                   20.53        8.675051                         10.99   \n",
              "4                   29.30        6.395262                         13.33   \n",
              "...                   ...             ...                           ...   \n",
              "32455               33.52        7.082549                         18.45   \n",
              "32456               34.40        8.295299                         13.20   \n",
              "32457               20.41       11.149355                          9.80   \n",
              "32458               14.04       10.180437                          8.44   \n",
              "32459               25.58        9.636653                         10.03   \n",
              "\n",
              "       difficult_words                                           features  \\\n",
              "0                 24.0  [7.3310603052186325, 258.0, 0.0, 0.0, 2.0, 0.0...   \n",
              "1                 30.0  [6.7912214627261855, 98.0, 0.0, 0.0, 1.0, 0.0,...   \n",
              "2                693.0  [10.497311511801287, 4351.0, 0.0, 3.0, 9.0, 8....   \n",
              "3                167.0  [8.675051276031818, 845.0, 0.0, 0.0, 12.0, 0.0...   \n",
              "4                 18.0  [6.395261598115449, 59.0, 0.0, 0.0, 5.0, 0.0, ...   \n",
              "...                ...                                                ...   \n",
              "32455             38.0  [7.0825485693553, 400.0, 1.0986122886681098, 1...   \n",
              "32456             92.0  [8.29529885950246, 668.0, 0.0, 0.0, 5.0, 0.0, ...   \n",
              "32457           1728.0  [11.14935537548599, 8353.0, 0.0, 1.0, 10.0, 2....   \n",
              "32458            533.0  [10.180437238408865, 3827.0, 2.564949357461536...   \n",
              "32459            318.0  [9.636653312597184, 1637.0, 0.0, 1.0, 2.0, 0.0...   \n",
              "\n",
              "       flesch_kincaid_grade  ...  num_lv2_headings  num_lv3_headings  \\\n",
              "0                      11.2  ...               1.0               0.0   \n",
              "1                      17.1  ...               2.0               0.0   \n",
              "2                       8.7  ...              10.0               0.0   \n",
              "3                      13.3  ...               4.0               4.0   \n",
              "4                      27.0  ...               1.0               0.0   \n",
              "...                     ...  ...               ...               ...   \n",
              "32455                  17.1  ...               2.0               0.0   \n",
              "32456                  20.0  ...               4.0               0.0   \n",
              "32457                  12.8  ...              10.0              12.0   \n",
              "32458                  11.0  ...               8.0               0.0   \n",
              "32459                  15.5  ...               4.0               0.0   \n",
              "\n",
              "       num_page_links  num_references  quality  rating  smog_index  \\\n",
              "0                 0.0        0.000000      Low    Stub        13.6   \n",
              "1                 0.0        0.000000      Low    Stub        16.2   \n",
              "2                 3.0        0.000000     High      GA        10.5   \n",
              "3                 0.0        0.000000      Low   Start        14.9   \n",
              "4                 0.0        0.000000      Low    Stub         0.0   \n",
              "...               ...             ...      ...     ...         ...   \n",
              "32455             1.0        1.098612      Low    Stub        16.2   \n",
              "32456             0.0        0.000000      Low    Stub        15.7   \n",
              "32457             1.0        0.000000     High      FA        13.5   \n",
              "32458             3.0        2.564949     High      FA        13.0   \n",
              "32459             1.0        0.000000     High      GA        14.0   \n",
              "\n",
              "       talk_pageid  talk_revid  words_per_sent  \n",
              "0          6660351   292565249            17.2  \n",
              "1         15052702   335002955            20.3  \n",
              "2         15073677   210721596            10.9  \n",
              "3         14523729   420631809            16.6  \n",
              "4         26671019   351595900            27.5  \n",
              "...            ...         ...             ...  \n",
              "32455     26075205   342033449            17.3  \n",
              "32456     49797435   710247471            24.6  \n",
              "32457       363327   277080543            15.2  \n",
              "32458      1540342    61207458            19.8  \n",
              "32459     40356228   584666120            16.3  \n",
              "\n",
              "[32460 rows x 31 columns]"
            ],
            "text/html": [
              "\n",
              "  <div id=\"df-39b0348c-78e5-4042-9988-c65b10bfbd80\">\n",
              "    <div class=\"colab-df-container\">\n",
              "      <div>\n",
              "<style scoped>\n",
              "    .dataframe tbody tr th:only-of-type {\n",
              "        vertical-align: middle;\n",
              "    }\n",
              "\n",
              "    .dataframe tbody tr th {\n",
              "        vertical-align: top;\n",
              "    }\n",
              "\n",
              "    .dataframe thead th {\n",
              "        text-align: right;\n",
              "    }\n",
              "</style>\n",
              "<table border=\"1\" class=\"dataframe\">\n",
              "  <thead>\n",
              "    <tr style=\"text-align: right;\">\n",
              "      <th></th>\n",
              "      <th>article_pageid</th>\n",
              "      <th>article_revid</th>\n",
              "      <th>automated_readability_index</th>\n",
              "      <th>avg_word</th>\n",
              "      <th>coleman_liau_index</th>\n",
              "      <th>content_length</th>\n",
              "      <th>dale_chall_readability_score</th>\n",
              "      <th>difficult_words</th>\n",
              "      <th>features</th>\n",
              "      <th>flesch_kincaid_grade</th>\n",
              "      <th>...</th>\n",
              "      <th>num_lv2_headings</th>\n",
              "      <th>num_lv3_headings</th>\n",
              "      <th>num_page_links</th>\n",
              "      <th>num_references</th>\n",
              "      <th>quality</th>\n",
              "      <th>rating</th>\n",
              "      <th>smog_index</th>\n",
              "      <th>talk_pageid</th>\n",
              "      <th>talk_revid</th>\n",
              "      <th>words_per_sent</th>\n",
              "    </tr>\n",
              "  </thead>\n",
              "  <tbody>\n",
              "    <tr>\n",
              "      <th>0</th>\n",
              "      <td>5659173</td>\n",
              "      <td>292565216</td>\n",
              "      <td>24.6</td>\n",
              "      <td>6.07</td>\n",
              "      <td>17.63</td>\n",
              "      <td>7.331060</td>\n",
              "      <td>11.93</td>\n",
              "      <td>24.0</td>\n",
              "      <td>[7.3310603052186325, 258.0, 0.0, 0.0, 2.0, 0.0...</td>\n",
              "      <td>11.2</td>\n",
              "      <td>...</td>\n",
              "      <td>1.0</td>\n",
              "      <td>0.0</td>\n",
              "      <td>0.0</td>\n",
              "      <td>0.000000</td>\n",
              "      <td>Low</td>\n",
              "      <td>Stub</td>\n",
              "      <td>13.6</td>\n",
              "      <td>6660351</td>\n",
              "      <td>292565249</td>\n",
              "      <td>17.2</td>\n",
              "    </tr>\n",
              "    <tr>\n",
              "      <th>1</th>\n",
              "      <td>6527950</td>\n",
              "      <td>322687528</td>\n",
              "      <td>33.2</td>\n",
              "      <td>7.38</td>\n",
              "      <td>25.52</td>\n",
              "      <td>6.791221</td>\n",
              "      <td>17.51</td>\n",
              "      <td>30.0</td>\n",
              "      <td>[6.7912214627261855, 98.0, 0.0, 0.0, 1.0, 0.0,...</td>\n",
              "      <td>17.1</td>\n",
              "      <td>...</td>\n",
              "      <td>2.0</td>\n",
              "      <td>0.0</td>\n",
              "      <td>0.0</td>\n",
              "      <td>0.000000</td>\n",
              "      <td>Low</td>\n",
              "      <td>Stub</td>\n",
              "      <td>16.2</td>\n",
              "      <td>15052702</td>\n",
              "      <td>335002955</td>\n",
              "      <td>20.3</td>\n",
              "    </tr>\n",
              "    <tr>\n",
              "      <th>2</th>\n",
              "      <td>14944697</td>\n",
              "      <td>210660341</td>\n",
              "      <td>19.3</td>\n",
              "      <td>6.32</td>\n",
              "      <td>18.19</td>\n",
              "      <td>10.497312</td>\n",
              "      <td>8.99</td>\n",
              "      <td>693.0</td>\n",
              "      <td>[10.497311511801287, 4351.0, 0.0, 3.0, 9.0, 8....</td>\n",
              "      <td>8.7</td>\n",
              "      <td>...</td>\n",
              "      <td>10.0</td>\n",
              "      <td>0.0</td>\n",
              "      <td>3.0</td>\n",
              "      <td>0.000000</td>\n",
              "      <td>High</td>\n",
              "      <td>GA</td>\n",
              "      <td>10.5</td>\n",
              "      <td>15073677</td>\n",
              "      <td>210721596</td>\n",
              "      <td>10.9</td>\n",
              "    </tr>\n",
              "    <tr>\n",
              "      <th>3</th>\n",
              "      <td>14522648</td>\n",
              "      <td>417346976</td>\n",
              "      <td>23.3</td>\n",
              "      <td>6.57</td>\n",
              "      <td>20.53</td>\n",
              "      <td>8.675051</td>\n",
              "      <td>10.99</td>\n",
              "      <td>167.0</td>\n",
              "      <td>[8.675051276031818, 845.0, 0.0, 0.0, 12.0, 0.0...</td>\n",
              "      <td>13.3</td>\n",
              "      <td>...</td>\n",
              "      <td>4.0</td>\n",
              "      <td>4.0</td>\n",
              "      <td>0.0</td>\n",
              "      <td>0.000000</td>\n",
              "      <td>Low</td>\n",
              "      <td>Start</td>\n",
              "      <td>14.9</td>\n",
              "      <td>14523729</td>\n",
              "      <td>420631809</td>\n",
              "      <td>16.6</td>\n",
              "    </tr>\n",
              "    <tr>\n",
              "      <th>4</th>\n",
              "      <td>14092063</td>\n",
              "      <td>329594952</td>\n",
              "      <td>38.6</td>\n",
              "      <td>7.98</td>\n",
              "      <td>29.30</td>\n",
              "      <td>6.395262</td>\n",
              "      <td>13.33</td>\n",
              "      <td>18.0</td>\n",
              "      <td>[6.395261598115449, 59.0, 0.0, 0.0, 5.0, 0.0, ...</td>\n",
              "      <td>27.0</td>\n",
              "      <td>...</td>\n",
              "      <td>1.0</td>\n",
              "      <td>0.0</td>\n",
              "      <td>0.0</td>\n",
              "      <td>0.000000</td>\n",
              "      <td>Low</td>\n",
              "      <td>Stub</td>\n",
              "      <td>0.0</td>\n",
              "      <td>26671019</td>\n",
              "      <td>351595900</td>\n",
              "      <td>27.5</td>\n",
              "    </tr>\n",
              "    <tr>\n",
              "      <th>...</th>\n",
              "      <td>...</td>\n",
              "      <td>...</td>\n",
              "      <td>...</td>\n",
              "      <td>...</td>\n",
              "      <td>...</td>\n",
              "      <td>...</td>\n",
              "      <td>...</td>\n",
              "      <td>...</td>\n",
              "      <td>...</td>\n",
              "      <td>...</td>\n",
              "      <td>...</td>\n",
              "      <td>...</td>\n",
              "      <td>...</td>\n",
              "      <td>...</td>\n",
              "      <td>...</td>\n",
              "      <td>...</td>\n",
              "      <td>...</td>\n",
              "      <td>...</td>\n",
              "      <td>...</td>\n",
              "      <td>...</td>\n",
              "      <td>...</td>\n",
              "    </tr>\n",
              "    <tr>\n",
              "      <th>32455</th>\n",
              "      <td>26064275</td>\n",
              "      <td>341886836</td>\n",
              "      <td>39.1</td>\n",
              "      <td>8.81</td>\n",
              "      <td>33.52</td>\n",
              "      <td>7.082549</td>\n",
              "      <td>18.45</td>\n",
              "      <td>38.0</td>\n",
              "      <td>[7.0825485693553, 400.0, 1.0986122886681098, 1...</td>\n",
              "      <td>17.1</td>\n",
              "      <td>...</td>\n",
              "      <td>2.0</td>\n",
              "      <td>0.0</td>\n",
              "      <td>1.0</td>\n",
              "      <td>1.098612</td>\n",
              "      <td>Low</td>\n",
              "      <td>Stub</td>\n",
              "      <td>16.2</td>\n",
              "      <td>26075205</td>\n",
              "      <td>342033449</td>\n",
              "      <td>17.3</td>\n",
              "    </tr>\n",
              "    <tr>\n",
              "      <th>32456</th>\n",
              "      <td>49797375</td>\n",
              "      <td>710247413</td>\n",
              "      <td>39.6</td>\n",
              "      <td>8.86</td>\n",
              "      <td>34.40</td>\n",
              "      <td>8.295299</td>\n",
              "      <td>13.20</td>\n",
              "      <td>92.0</td>\n",
              "      <td>[8.29529885950246, 668.0, 0.0, 0.0, 5.0, 0.0, ...</td>\n",
              "      <td>20.0</td>\n",
              "      <td>...</td>\n",
              "      <td>4.0</td>\n",
              "      <td>0.0</td>\n",
              "      <td>0.0</td>\n",
              "      <td>0.000000</td>\n",
              "      <td>Low</td>\n",
              "      <td>Stub</td>\n",
              "      <td>15.7</td>\n",
              "      <td>49797435</td>\n",
              "      <td>710247471</td>\n",
              "      <td>24.6</td>\n",
              "    </tr>\n",
              "    <tr>\n",
              "      <th>32457</th>\n",
              "      <td>59385</td>\n",
              "      <td>277080523</td>\n",
              "      <td>22.0</td>\n",
              "      <td>6.60</td>\n",
              "      <td>20.41</td>\n",
              "      <td>11.149355</td>\n",
              "      <td>9.80</td>\n",
              "      <td>1728.0</td>\n",
              "      <td>[11.14935537548599, 8353.0, 0.0, 1.0, 10.0, 2....</td>\n",
              "      <td>12.8</td>\n",
              "      <td>...</td>\n",
              "      <td>10.0</td>\n",
              "      <td>12.0</td>\n",
              "      <td>1.0</td>\n",
              "      <td>0.000000</td>\n",
              "      <td>High</td>\n",
              "      <td>FA</td>\n",
              "      <td>13.5</td>\n",
              "      <td>363327</td>\n",
              "      <td>277080543</td>\n",
              "      <td>15.2</td>\n",
              "    </tr>\n",
              "    <tr>\n",
              "      <th>32458</th>\n",
              "      <td>1540309</td>\n",
              "      <td>60693022</td>\n",
              "      <td>17.3</td>\n",
              "      <td>5.40</td>\n",
              "      <td>14.04</td>\n",
              "      <td>10.180437</td>\n",
              "      <td>8.44</td>\n",
              "      <td>533.0</td>\n",
              "      <td>[10.180437238408865, 3827.0, 2.564949357461536...</td>\n",
              "      <td>11.0</td>\n",
              "      <td>...</td>\n",
              "      <td>8.0</td>\n",
              "      <td>0.0</td>\n",
              "      <td>3.0</td>\n",
              "      <td>2.564949</td>\n",
              "      <td>High</td>\n",
              "      <td>FA</td>\n",
              "      <td>13.0</td>\n",
              "      <td>1540342</td>\n",
              "      <td>61207458</td>\n",
              "      <td>19.8</td>\n",
              "    </tr>\n",
              "    <tr>\n",
              "      <th>32459</th>\n",
              "      <td>40356227</td>\n",
              "      <td>584592026</td>\n",
              "      <td>27.1</td>\n",
              "      <td>7.44</td>\n",
              "      <td>25.58</td>\n",
              "      <td>9.636653</td>\n",
              "      <td>10.03</td>\n",
              "      <td>318.0</td>\n",
              "      <td>[9.636653312597184, 1637.0, 0.0, 1.0, 2.0, 0.0...</td>\n",
              "      <td>15.5</td>\n",
              "      <td>...</td>\n",
              "      <td>4.0</td>\n",
              "      <td>0.0</td>\n",
              "      <td>1.0</td>\n",
              "      <td>0.000000</td>\n",
              "      <td>High</td>\n",
              "      <td>GA</td>\n",
              "      <td>14.0</td>\n",
              "      <td>40356228</td>\n",
              "      <td>584666120</td>\n",
              "      <td>16.3</td>\n",
              "    </tr>\n",
              "  </tbody>\n",
              "</table>\n",
              "<p>32460 rows × 31 columns</p>\n",
              "</div>\n",
              "      <button class=\"colab-df-convert\" onclick=\"convertToInteractive('df-39b0348c-78e5-4042-9988-c65b10bfbd80')\"\n",
              "              title=\"Convert this dataframe to an interactive table.\"\n",
              "              style=\"display:none;\">\n",
              "        \n",
              "  <svg xmlns=\"http://www.w3.org/2000/svg\" height=\"24px\"viewBox=\"0 0 24 24\"\n",
              "       width=\"24px\">\n",
              "    <path d=\"M0 0h24v24H0V0z\" fill=\"none\"/>\n",
              "    <path d=\"M18.56 5.44l.94 2.06.94-2.06 2.06-.94-2.06-.94-.94-2.06-.94 2.06-2.06.94zm-11 1L8.5 8.5l.94-2.06 2.06-.94-2.06-.94L8.5 2.5l-.94 2.06-2.06.94zm10 10l.94 2.06.94-2.06 2.06-.94-2.06-.94-.94-2.06-.94 2.06-2.06.94z\"/><path d=\"M17.41 7.96l-1.37-1.37c-.4-.4-.92-.59-1.43-.59-.52 0-1.04.2-1.43.59L10.3 9.45l-7.72 7.72c-.78.78-.78 2.05 0 2.83L4 21.41c.39.39.9.59 1.41.59.51 0 1.02-.2 1.41-.59l7.78-7.78 2.81-2.81c.8-.78.8-2.07 0-2.86zM5.41 20L4 18.59l7.72-7.72 1.47 1.35L5.41 20z\"/>\n",
              "  </svg>\n",
              "      </button>\n",
              "      \n",
              "  <style>\n",
              "    .colab-df-container {\n",
              "      display:flex;\n",
              "      flex-wrap:wrap;\n",
              "      gap: 12px;\n",
              "    }\n",
              "\n",
              "    .colab-df-convert {\n",
              "      background-color: #E8F0FE;\n",
              "      border: none;\n",
              "      border-radius: 50%;\n",
              "      cursor: pointer;\n",
              "      display: none;\n",
              "      fill: #1967D2;\n",
              "      height: 32px;\n",
              "      padding: 0 0 0 0;\n",
              "      width: 32px;\n",
              "    }\n",
              "\n",
              "    .colab-df-convert:hover {\n",
              "      background-color: #E2EBFA;\n",
              "      box-shadow: 0px 1px 2px rgba(60, 64, 67, 0.3), 0px 1px 3px 1px rgba(60, 64, 67, 0.15);\n",
              "      fill: #174EA6;\n",
              "    }\n",
              "\n",
              "    [theme=dark] .colab-df-convert {\n",
              "      background-color: #3B4455;\n",
              "      fill: #D2E3FC;\n",
              "    }\n",
              "\n",
              "    [theme=dark] .colab-df-convert:hover {\n",
              "      background-color: #434B5C;\n",
              "      box-shadow: 0px 1px 3px 1px rgba(0, 0, 0, 0.15);\n",
              "      filter: drop-shadow(0px 1px 2px rgba(0, 0, 0, 0.3));\n",
              "      fill: #FFFFFF;\n",
              "    }\n",
              "  </style>\n",
              "\n",
              "      <script>\n",
              "        const buttonEl =\n",
              "          document.querySelector('#df-39b0348c-78e5-4042-9988-c65b10bfbd80 button.colab-df-convert');\n",
              "        buttonEl.style.display =\n",
              "          google.colab.kernel.accessAllowed ? 'block' : 'none';\n",
              "\n",
              "        async function convertToInteractive(key) {\n",
              "          const element = document.querySelector('#df-39b0348c-78e5-4042-9988-c65b10bfbd80');\n",
              "          const dataTable =\n",
              "            await google.colab.kernel.invokeFunction('convertToInteractive',\n",
              "                                                     [key], {});\n",
              "          if (!dataTable) return;\n",
              "\n",
              "          const docLinkHtml = 'Like what you see? Visit the ' +\n",
              "            '<a target=\"_blank\" href=https://colab.research.google.com/notebooks/data_table.ipynb>data table notebook</a>'\n",
              "            + ' to learn more about interactive tables.';\n",
              "          element.innerHTML = '';\n",
              "          dataTable['output_type'] = 'display_data';\n",
              "          await google.colab.output.renderOutput(dataTable, element);\n",
              "          const docLink = document.createElement('div');\n",
              "          docLink.innerHTML = docLinkHtml;\n",
              "          element.appendChild(docLink);\n",
              "        }\n",
              "      </script>\n",
              "    </div>\n",
              "  </div>\n",
              "  "
            ]
          },
          "metadata": {},
          "execution_count": 26
        }
      ]
    },
    {
      "cell_type": "markdown",
      "source": [
        "**Training models**"
      ],
      "metadata": {
        "id": "_zmnHvJcNMZ6"
      }
    },
    {
      "cell_type": "code",
      "source": [
        "# import os\n",
        "# from pyspark.sql.dataframe import DataFrame\n",
        "# from pyspark.sql.types import StructField, StringType, StructType, IntegerType, DoubleType, ArrayType\n",
        "\n",
        "# schema = StructType([ \\\n",
        "#     StructField(\"index\", IntegerType(), True), \\\n",
        "#     StructField(\"article_revid\",StringType(),True), \\\n",
        "#     StructField(\"features\", ArrayType(DoubleType()),True), \\\n",
        "#     # StructField(\"rating\",StringType(),True), \\\n",
        "#   ] + [StructField(field_name, DoubleType(), True) for field_name in features_list])\n",
        "\n",
        "# def build_text_df():\n",
        "#   data = []\n",
        "#   for index, file_name in enumerate(os.listdir(\"revisiondata\")):\n",
        "#     features = extract_text_data_features_todf(extract_file_text_data(f\"revisiondata/{file_name}\"))\n",
        "#     # rating = training_rating_df.filter(training_rating_df.article_revid==file_name).select([\"rating\"]).collect()\n",
        "#     # rating = rating[0] if rating else None\n",
        "#     row = []\n",
        "#     row.append(index)\n",
        "#     row.append(file_name)\n",
        "#     row.append(features)\n",
        "#     # row.append('rating')\n",
        "\n",
        "#     for value in features:\n",
        "#       row.append(value)\n",
        "\n",
        "#     data.append(row)\n",
        "\n",
        "#   # print(data[:5])\n",
        "\n",
        "#   return spark.createDataFrame(data, schema=schema)"
      ],
      "metadata": {
        "id": "v0M9gg_DNZ0J"
      },
      "execution_count": null,
      "outputs": []
    },
    {
      "cell_type": "code",
      "source": [
        "from pyspark.ml.feature import StringIndexer\n",
        "def build_complete_df(df, rating_df):\n",
        "  \"\"\"\n",
        "  Returns the complete dataset with all features and ratings\n",
        "  \"\"\"\n",
        "  out_df = df.join(rating_df, df.article_revid==rating_df.article_revid).select([\"index\", df.article_revid, \"article_pageid\", \"talk_pageid\", \"talk_revid\", rating_df.rating, \"features\"] + features_list)\n",
        "  return out_df"
      ],
      "metadata": {
        "id": "80OCwmXMPLNp"
      },
      "execution_count": null,
      "outputs": []
    },
    {
      "cell_type": "code",
      "source": [
        "from pyspark.ml.feature import StringIndexer, VectorAssembler\n",
        "from pyspark.ml import Pipeline\n",
        "def build_pipeline_model(df):\n",
        "  \"\"\"\n",
        "  Preprocessing pipeline\n",
        "  \"\"\"\n",
        "  stringIndexer = StringIndexer(inputCol=\"rating\", outputCol=\"label\")\n",
        "  qualityStringIndexer = StringIndexer(inputCol=\"quality\", outputCol=\"qualityLabel\")\n",
        "  vectorAssembler = VectorAssembler(inputCols=features_list, outputCol=\"assembledFeatures\")\n",
        "  return Pipeline(stages=[stringIndexer, qualityStringIndexer, vectorAssembler]).fit(df)\n",
        "\n",
        "def build_learning_pipeline(pipelineModel, learningModel):\n",
        "  \"\"\"\n",
        "  Complete pipeline with learning model\n",
        "  \"\"\"\n",
        "  return Pipeline(stages=[pipelineModel, learningModel])"
      ],
      "metadata": {
        "id": "16_VbcVfRkzn"
      },
      "execution_count": null,
      "outputs": []
    },
    {
      "cell_type": "code",
      "source": [
        "from pyspark.ml.evaluation import MulticlassClassificationEvaluator\n",
        "def evaluate_accuracy(predictions, binary=False):\n",
        "  \"\"\"\n",
        "  Accuracy\n",
        "  \"\"\"\n",
        "  evaluator = MulticlassClassificationEvaluator(predictionCol=\"prediction\", labelCol=\"qualityLabel\" if binary else \"label\")\n",
        "  return evaluator.evaluate(predictions)"
      ],
      "metadata": {
        "id": "znS7faiIUbQS"
      },
      "execution_count": null,
      "outputs": []
    },
    {
      "cell_type": "code",
      "source": [
        "from sklearn.metrics import classification_report, confusion_matrix\n",
        "def print_classification_report(y_true, y_pred, labels=[]):\n",
        "  \"\"\"\n",
        "  Classification report\n",
        "  \"\"\"\n",
        "  print(classification_report(y_true, y_pred, target_names=labels))"
      ],
      "metadata": {
        "id": "6NpDCMzKdGjV"
      },
      "execution_count": null,
      "outputs": []
    },
    {
      "cell_type": "code",
      "source": [
        "import matplotlib.pyplot as plt\n",
        "import numpy as np\n",
        "import itertools\n",
        "from sklearn.metrics import confusion_matrix\n",
        "\n",
        "def show_confusion_matrix(y_true, y_pred, labels=[], classes=[]):\n",
        "    \"\"\"\n",
        "    Confusion matrix\n",
        "    \"\"\"\n",
        "    matrix = confusion_matrix(y_true, y_pred, labels=labels)\n",
        "    matrix = matrix.astype('float') / matrix.sum(axis=1)[:, np.newaxis]\n",
        "\n",
        "    plt.figure()\n",
        "\n",
        "    cmap=plt.cm.Reds\n",
        "\n",
        "    print(matrix)\n",
        "\n",
        "    plt.imshow(matrix, interpolation='nearest', cmap=cmap)\n",
        "    plt.title(\"Confusion matrix\")\n",
        "    plt.colorbar()\n",
        "    tick_marks = np.arange(len(classes))\n",
        "    plt.xticks(tick_marks, classes, rotation=45)\n",
        "    plt.yticks(tick_marks, classes)\n",
        "\n",
        "    # fmt = '.2f'\n",
        "    thresh = matrix.max() / 2.\n",
        "    for i, j in itertools.product(range(matrix.shape[0]), range(matrix.shape[1])):\n",
        "        plt.text(j, i, format(matrix[i, j], '.2f'),\n",
        "                 horizontalalignment=\"center\",\n",
        "                 color=\"white\" if matrix[i, j] > thresh else \"black\")\n",
        "\n",
        "    plt.tight_layout()\n",
        "    plt.ylabel('True')\n",
        "    plt.xlabel('Predicted')\n",
        "    plt.savefig(\"confusion_matrix.png\")\n",
        "    plt.show()"
      ],
      "metadata": {
        "id": "4ELyodwlJ0vh"
      },
      "execution_count": null,
      "outputs": []
    },
    {
      "cell_type": "markdown",
      "source": [
        "## **Classification**"
      ],
      "metadata": {
        "id": "bHsQ1DETJ2WP"
      }
    },
    {
      "cell_type": "code",
      "source": [
        "pipelineModel = build_pipeline_model(full_df)"
      ],
      "metadata": {
        "id": "q7peCTYzjoOr"
      },
      "execution_count": null,
      "outputs": []
    },
    {
      "cell_type": "code",
      "source": [
        "fdf = pipelineModel.transform(full_df)\n",
        "print(fdf.select([\"label\", \"rating\", \"quality\", \"qualityLabel\"]).groupBy(\"rating\").count().orderBy(\"count\", ascending=False).collect())\n",
        "print(fdf.select([\"label\", \"rating\", \"quality\", \"qualityLabel\"]).groupBy(\"label\").count().orderBy(\"label\").collect())"
      ],
      "metadata": {
        "id": "QbcNRs7UK6MV",
        "colab": {
          "base_uri": "https://localhost:8080/"
        },
        "outputId": "05b1d785-e744-4771-a0c1-8c7a5ed3ac07"
      },
      "execution_count": null,
      "outputs": [
        {
          "output_type": "stream",
          "name": "stdout",
          "text": [
            "[Row(rating='GA', count=5497), Row(rating='Stub', count=5493), Row(rating='B', count=5492), Row(rating='C', count=5492), Row(rating='Start', count=5490), Row(rating='FA', count=4996)]\n",
            "[Row(label=0.0, count=5497), Row(label=1.0, count=5493), Row(label=2.0, count=5492), Row(label=3.0, count=5492), Row(label=4.0, count=5490), Row(label=5.0, count=4996)]\n"
          ]
        }
      ]
    },
    {
      "cell_type": "markdown",
      "source": [
        "Random forest classifier"
      ],
      "metadata": {
        "id": "j-QdQ5KYBlRd"
      }
    },
    {
      "cell_type": "code",
      "source": [
        "import datetime\n",
        "# Random forest classfier\n",
        "from pyspark.ml.classification import RandomForestClassifier, DecisionTreeClassifier, LogisticRegression, NaiveBayes, GBTClassifier\n",
        "rf = RandomForestClassifier(featuresCol=\"assembledFeatures\", labelCol=\"label\")\n",
        "t = datetime.datetime.now()\n",
        "# rfModel = build_learning_pipeline(pipelineModel, rf).fit(training_df)\n",
        "rfModel = pipelineModel.load(\"/content/drive/MyDrive/Big data project/rfModel1\")\n",
        "print(\"RandomForestClassifier training time is =\", (datetime.datetime.now() - t))"
      ],
      "metadata": {
        "id": "YqxUD8zBPm9k",
        "colab": {
          "base_uri": "https://localhost:8080/"
        },
        "outputId": "dcdde373-f94a-4992-a737-4beb2b2600b0"
      },
      "execution_count": null,
      "outputs": [
        {
          "output_type": "stream",
          "name": "stdout",
          "text": [
            "RandomForestClassifier training time is = 0:00:14.807999\n"
          ]
        }
      ]
    },
    {
      "cell_type": "code",
      "source": [
        "t = datetime.datetime.now()\n",
        "rfPredictions = rfModel.transform(testing_df)\n",
        "print(\"RandomForestClassifier prediction time is =\", (datetime.datetime.now() - t))\n",
        "print(\"Accuracy is\", evaluate_accuracy(rfPredictions, binary=False))\n",
        "y_true = rfPredictions.select(['label']).collect()\n",
        "y_pred = rfPredictions.select(['prediction']).collect()\n",
        "print_classification_report(y_true, y_pred, ['GA', \"Stub\", 'B', \"C\", 'Start', 'FA'])"
      ],
      "metadata": {
        "id": "TMlgGajhCSZi",
        "colab": {
          "base_uri": "https://localhost:8080/"
        },
        "outputId": "f263314c-d4a9-4329-9c43-077b1bd86671"
      },
      "execution_count": null,
      "outputs": [
        {
          "output_type": "stream",
          "name": "stdout",
          "text": [
            "RandomForestClassifier prediction time is = 0:00:00.261692\n",
            "Accuracy is 0.5269607387660782\n",
            "              precision    recall  f1-score   support\n",
            "\n",
            "          GA       0.46      0.43      0.45       549\n",
            "        Stub       0.82      0.86      0.84       579\n",
            "           B       0.45      0.22      0.29       547\n",
            "           C       0.41      0.34      0.37       556\n",
            "       Start       0.52      0.62      0.57       551\n",
            "          FA       0.52      0.82      0.64       504\n",
            "\n",
            "    accuracy                           0.55      3286\n",
            "   macro avg       0.53      0.55      0.53      3286\n",
            "weighted avg       0.53      0.55      0.53      3286\n",
            "\n"
          ]
        }
      ]
    },
    {
      "cell_type": "code",
      "source": [
        "show_confusion_matrix(y_true, y_pred, labels=[0.0, 1.0, 2.0, 3.0, 4.0, 5.0], classes=['GA', \"Stub\", 'B', \"C\", 'Start', 'FA'])"
      ],
      "metadata": {
        "id": "rxEqhdYtQIDZ",
        "colab": {
          "base_uri": "https://localhost:8080/",
          "height": 415
        },
        "outputId": "7d6c11e6-e978-4606-8624-afe4ef48a9fd"
      },
      "execution_count": null,
      "outputs": [
        {
          "output_type": "stream",
          "name": "stdout",
          "text": [
            "[[0.428051   0.00182149 0.05100182 0.12204007 0.02367942 0.37340619]\n",
            " [0.         0.8566494  0.00518135 0.00172712 0.13644214 0.        ]\n",
            " [0.15904936 0.01096892 0.21937843 0.21937843 0.18647166 0.2047532 ]\n",
            " [0.17985612 0.01978417 0.14568345 0.33633094 0.2176259  0.10071942]\n",
            " [0.03085299 0.16333938 0.0399274  0.12704174 0.62431942 0.01451906]\n",
            " [0.13492063 0.         0.0297619  0.01388889 0.         0.82142857]]\n"
          ]
        },
        {
          "output_type": "display_data",
          "data": {
            "text/plain": [
              "<Figure size 432x288 with 2 Axes>"
            ],
            "image/png": "[encoded data removed]"
          },
          "metadata": {
            "needs_background": "light"
          }
        }
      ]
    },
    {
      "cell_type": "code",
      "source": [
        "# persisting model\n",
        "# rfModel.save(\"/content/drive/MyDrive/Big data project/rfModel1\")"
      ],
      "metadata": {
        "id": "qsB1Gzj5l_ZC"
      },
      "execution_count": null,
      "outputs": []
    },
    {
      "cell_type": "markdown",
      "source": [
        "Logistic regression"
      ],
      "metadata": {
        "id": "cy864A6ZAEuW"
      }
    },
    {
      "cell_type": "code",
      "source": [
        "# Logistic regression classifier\n",
        "from pyspark.ml.classification import RandomForestClassifier, DecisionTreeClassifier, LogisticRegression, NaiveBayes, GBTClassifier\n",
        "lr = LogisticRegression(featuresCol=\"assembledFeatures\", labelCol=\"label\")\n",
        "t = datetime.datetime.now()\n",
        "# lrModel = build_learning_pipeline(pipelineModel, lr).fit(training_df)\n",
        "lrModel = pipelineModel.load(\"/content/drive/MyDrive/Big data project/lrModel1\")\n",
        "print(\"LogisticRegression training time is =\", (datetime.datetime.now() - t))"
      ],
      "metadata": {
        "id": "nDIF5h-vALlX",
        "colab": {
          "base_uri": "https://localhost:8080/"
        },
        "outputId": "5e261c70-f2d6-4c6b-fe3a-71ee1d808b01"
      },
      "execution_count": null,
      "outputs": [
        {
          "output_type": "stream",
          "name": "stdout",
          "text": [
            "LogisticRegression training time is = 0:00:10.397811\n"
          ]
        }
      ]
    },
    {
      "cell_type": "code",
      "source": [
        "t = datetime.datetime.now()\n",
        "lrPredictions = rfModel.transform(testing_df)\n",
        "print(\"LogisticRegression prediction time is =\", (datetime.datetime.now() - t))\n",
        "print(evaluate_accuracy(lrPredictions, binary=False))\n",
        "y_true = lrPredictions.select(['label']).collect()\n",
        "y_pred = lrPredictions.select(['prediction']).collect()\n",
        "print_classification_report(y_true, y_pred, ['FA', \"GA\", 'B', \"C\", 'Start', 'Stun'])"
      ],
      "metadata": {
        "id": "_waPwY8zAD8B",
        "colab": {
          "base_uri": "https://localhost:8080/"
        },
        "outputId": "e170153d-0805-4f3d-8353-b9425dcb8374"
      },
      "execution_count": null,
      "outputs": [
        {
          "output_type": "stream",
          "name": "stdout",
          "text": [
            "LogisticRegression prediction time is = 0:00:00.307322\n",
            "0.5269607387660782\n",
            "              precision    recall  f1-score   support\n",
            "\n",
            "          FA       0.46      0.43      0.45       549\n",
            "          GA       0.82      0.86      0.84       579\n",
            "           B       0.45      0.22      0.29       547\n",
            "           C       0.41      0.34      0.37       556\n",
            "       Start       0.52      0.62      0.57       551\n",
            "        Stun       0.52      0.82      0.64       504\n",
            "\n",
            "    accuracy                           0.55      3286\n",
            "   macro avg       0.53      0.55      0.53      3286\n",
            "weighted avg       0.53      0.55      0.53      3286\n",
            "\n"
          ]
        }
      ]
    },
    {
      "cell_type": "code",
      "source": [
        "show_confusion_matrix(y_true, y_pred, labels=[0.0, 1.0, 2.0, 3.0, 4.0, 5.0], classes=['FA', \"GA\", 'B', \"C\", 'Start', 'Stub'])"
      ],
      "metadata": {
        "id": "y_xnjU01W-0O",
        "colab": {
          "base_uri": "https://localhost:8080/",
          "height": 415
        },
        "outputId": "ee80a191-33b6-4ca1-b6b7-11ca36f336fb"
      },
      "execution_count": null,
      "outputs": [
        {
          "output_type": "stream",
          "name": "stdout",
          "text": [
            "[[0.428051   0.00182149 0.05100182 0.12204007 0.02367942 0.37340619]\n",
            " [0.         0.8566494  0.00518135 0.00172712 0.13644214 0.        ]\n",
            " [0.15904936 0.01096892 0.21937843 0.21937843 0.18647166 0.2047532 ]\n",
            " [0.17985612 0.01978417 0.14568345 0.33633094 0.2176259  0.10071942]\n",
            " [0.03085299 0.16333938 0.0399274  0.12704174 0.62431942 0.01451906]\n",
            " [0.13492063 0.         0.0297619  0.01388889 0.         0.82142857]]\n"
          ]
        },
        {
          "output_type": "display_data",
          "data": {
            "text/plain": [
              "<Figure size 432x288 with 2 Axes>"
            ],
            "image/png": "[encoded data removed]"
          },
          "metadata": {
            "needs_background": "light"
          }
        }
      ]
    },
    {
      "cell_type": "code",
      "source": [
        "# persisting model\n",
        "# lrModel.save(\"/content/drive/MyDrive/Big data project/lrModel1\")"
      ],
      "metadata": {
        "id": "xBtaU9Zqmnp1"
      },
      "execution_count": null,
      "outputs": []
    },
    {
      "cell_type": "markdown",
      "source": [
        "Decision tree"
      ],
      "metadata": {
        "id": "XGnaQ1ChD16X"
      }
    },
    {
      "cell_type": "code",
      "source": [
        "# Logistic regression classifier\n",
        "from pyspark.ml.classification import RandomForestClassifier, DecisionTreeClassifier, LogisticRegression, NaiveBayes, GBTClassifier\n",
        "dt = DecisionTreeClassifier(featuresCol=\"assembledFeatures\", labelCol=\"label\")\n",
        "t = datetime.datetime.now()\n",
        "# dtModel = build_learning_pipeline(pipelineModel, dt).fit(training_df)\n",
        "dtModel = pipelineModel.load(\"/content/drive/MyDrive/Big data project/dtModel1\")\n",
        "print(\"DecisionTreeClassifier training time is =\", (datetime.datetime.now() - t))"
      ],
      "metadata": {
        "id": "igAwaxNAD5FF",
        "colab": {
          "base_uri": "https://localhost:8080/"
        },
        "outputId": "96b25c77-7a28-4ad4-a71f-e7cc309f82e0"
      },
      "execution_count": null,
      "outputs": [
        {
          "output_type": "stream",
          "name": "stdout",
          "text": [
            "DecisionTreeClassifier training time is = 0:00:10.241399\n"
          ]
        }
      ]
    },
    {
      "cell_type": "code",
      "source": [
        "t = datetime.datetime.now()\n",
        "dtPredictions = dtModel.transform(testing_df)\n",
        "print(\"DecisionTreeClassifier prediction time is =\", (datetime.datetime.now() - t))\n",
        "print(evaluate_accuracy(dtPredictions, binary=False))\n",
        "y_true = dtPredictions.select(['label']).collect()\n",
        "y_pred = dtPredictions.select(['prediction']).collect()\n",
        "print_classification_report(y_true, y_pred, ['FA', \"GA\", 'B', \"C\", 'Start', 'Stun'])"
      ],
      "metadata": {
        "id": "tKKMWbC1D8Hv",
        "colab": {
          "base_uri": "https://localhost:8080/"
        },
        "outputId": "d0165adb-370b-4dce-8fa2-3562b84ba4b9"
      },
      "execution_count": null,
      "outputs": [
        {
          "output_type": "stream",
          "name": "stdout",
          "text": [
            "DecisionTreeClassifier prediction time is = 0:00:00.223858\n",
            "0.521390394067747\n",
            "              precision    recall  f1-score   support\n",
            "\n",
            "          FA       0.41      0.48      0.44       549\n",
            "          GA       0.83      0.82      0.82       579\n",
            "           B       0.47      0.22      0.30       547\n",
            "           C       0.39      0.31      0.35       556\n",
            "       Start       0.51      0.62      0.56       551\n",
            "        Stun       0.55      0.78      0.65       504\n",
            "\n",
            "    accuracy                           0.54      3286\n",
            "   macro avg       0.53      0.54      0.52      3286\n",
            "weighted avg       0.53      0.54      0.52      3286\n",
            "\n"
          ]
        }
      ]
    },
    {
      "cell_type": "code",
      "source": [
        "show_confusion_matrix(y_true, y_pred, labels=[0.0, 1.0, 2.0, 3.0, 4.0, 5.0], classes=['FA', \"GA\", 'B', \"C\", 'Start', 'Stub'])"
      ],
      "metadata": {
        "id": "PlVmJNLBYnqI",
        "colab": {
          "base_uri": "https://localhost:8080/",
          "height": 415
        },
        "outputId": "4fe776b3-952d-4a4e-c804-d022f5478083"
      },
      "execution_count": null,
      "outputs": [
        {
          "output_type": "stream",
          "name": "stdout",
          "text": [
            "[[0.47723133 0.00182149 0.0564663  0.12750455 0.01457195 0.32240437]\n",
            " [0.00518135 0.82037997 0.00345423 0.00690846 0.16234888 0.00172712]\n",
            " [0.21389397 0.01279707 0.22120658 0.20658135 0.18464351 0.16087751]\n",
            " [0.25179856 0.01798561 0.12230216 0.3147482  0.21582734 0.07733813]\n",
            " [0.04355717 0.14519056 0.04174229 0.13974592 0.61887477 0.01088929]\n",
            " [0.18055556 0.         0.0297619  0.01388889 0.         0.77579365]]\n"
          ]
        },
        {
          "output_type": "display_data",
          "data": {
            "text/plain": [
              "<Figure size 432x288 with 2 Axes>"
            ],
            "image/png": "[encoded data removed]"
          },
          "metadata": {
            "needs_background": "light"
          }
        }
      ]
    },
    {
      "cell_type": "code",
      "source": [
        "# persisting model\n",
        "# dtModel.save(\"/content/drive/MyDrive/Big data project/dtModel1\")"
      ],
      "metadata": {
        "id": "xMMRjF-Omt75"
      },
      "execution_count": null,
      "outputs": []
    },
    {
      "cell_type": "markdown",
      "source": [
        "**Binary classifiers**"
      ],
      "metadata": {
        "id": "mO_SOtUMEtr_"
      }
    },
    {
      "cell_type": "markdown",
      "source": [
        "Gradient boost classifier"
      ],
      "metadata": {
        "id": "D9N2unp8EANX"
      }
    },
    {
      "cell_type": "code",
      "source": [
        "# Gradient boost classifier\n",
        "from pyspark.ml.classification import RandomForestClassifier, DecisionTreeClassifier, LogisticRegression, NaiveBayes, GBTClassifier\n",
        "gbt = GBTClassifier(featuresCol=\"assembledFeatures\", labelCol=\"qualityLabel\", maxIter=50)  # Binary classifier\n",
        "t = datetime.datetime.now()\n",
        "# gbtModel = build_learning_pipeline(pipelineModel, gbt).fit(training_df)\n",
        "gbtModel = pipelineModel.load(\"/content/drive/MyDrive/Big data project/gbtModel1\")\n",
        "print(\"GBTClassifier binary training time is =\", (datetime.datetime.now() - t))"
      ],
      "metadata": {
        "id": "ymTWPB5JBjs1",
        "colab": {
          "base_uri": "https://localhost:8080/"
        },
        "outputId": "0c80fc36-f748-4048-9151-54aa3404aaa6"
      },
      "execution_count": null,
      "outputs": [
        {
          "output_type": "stream",
          "name": "stdout",
          "text": [
            "GBTClassifier binary training time is = 0:00:11.252064\n"
          ]
        }
      ]
    },
    {
      "cell_type": "code",
      "source": [
        "t = datetime.datetime.now()\n",
        "gbtPredictions = gbtModel.transform(testing_df)\n",
        "print(\"GBTClassifier binary prediction time is =\", (datetime.datetime.now() - t))\n",
        "print(evaluate_accuracy(gbtPredictions, binary=True))\n",
        "y_true = gbtPredictions.select(['qualityLabel']).collect()\n",
        "y_pred = gbtPredictions.select(['prediction']).collect()\n",
        "print_classification_report(y_true, y_pred, ['Low', \"High\"])"
      ],
      "metadata": {
        "id": "qo_bPOGVkNXX",
        "colab": {
          "base_uri": "https://localhost:8080/"
        },
        "outputId": "d8316404-c8b5-4e65-9bba-19f42e023409"
      },
      "execution_count": null,
      "outputs": [
        {
          "output_type": "stream",
          "name": "stdout",
          "text": [
            "GBTClassifier binary prediction time is = 0:00:00.210362\n",
            "0.8889184347836805\n",
            "              precision    recall  f1-score   support\n",
            "\n",
            "         Low       0.92      0.91      0.92      2233\n",
            "        High       0.82      0.84      0.83      1053\n",
            "\n",
            "    accuracy                           0.89      3286\n",
            "   macro avg       0.87      0.87      0.87      3286\n",
            "weighted avg       0.89      0.89      0.89      3286\n",
            "\n"
          ]
        }
      ]
    },
    {
      "cell_type": "code",
      "source": [
        "show_confusion_matrix(y_true, y_pred, labels=[0.0, 1.0], classes=['Low', \"High\"])"
      ],
      "metadata": {
        "id": "GwYhqckvY1xY",
        "colab": {
          "base_uri": "https://localhost:8080/",
          "height": 346
        },
        "outputId": "6ec0012c-4cc1-4f4e-8736-b6b0b8c0d250"
      },
      "execution_count": null,
      "outputs": [
        {
          "output_type": "stream",
          "name": "stdout",
          "text": [
            "[[0.91312136 0.08687864]\n",
            " [0.16334283 0.83665717]]\n"
          ]
        },
        {
          "output_type": "display_data",
          "data": {
            "text/plain": [
              "<Figure size 432x288 with 2 Axes>"
            ],
            "image/png": "[encoded data removed]"
          },
          "metadata": {
            "needs_background": "light"
          }
        }
      ]
    },
    {
      "cell_type": "code",
      "source": [
        "# persisting model\n",
        "# gbtModel.save(\"/content/drive/MyDrive/Big data project/gbtModel1\")"
      ],
      "metadata": {
        "id": "vtvZdciNmybb"
      },
      "execution_count": null,
      "outputs": []
    },
    {
      "cell_type": "markdown",
      "source": [
        "Logistic regression"
      ],
      "metadata": {
        "id": "gFSZQ1v_IRq6"
      }
    },
    {
      "cell_type": "code",
      "source": [
        "# Logistic regression classifier\n",
        "from pyspark.ml.classification import RandomForestClassifier, DecisionTreeClassifier, LogisticRegression, NaiveBayes, GBTClassifier\n",
        "lrB = LogisticRegression(featuresCol=\"assembledFeatures\", labelCol=\"qualityLabel\", maxIter=50)  # Binary classifier\n",
        "t = datetime.datetime.now()\n",
        "# lrBModel = build_learning_pipeline(pipelineModel, lrB).fit(training_df)\n",
        "lrBModel = pipelineModel.load(\"/content/drive/MyDrive/Big data project/lrBModel1\")\n",
        "print(\"LogisticRegression binary training time is =\", (datetime.datetime.now() - t))"
      ],
      "metadata": {
        "id": "fFQ6iGgPddRf",
        "colab": {
          "base_uri": "https://localhost:8080/"
        },
        "outputId": "04366993-9432-4cb6-ca6e-4042fde26c51"
      },
      "execution_count": null,
      "outputs": [
        {
          "output_type": "stream",
          "name": "stdout",
          "text": [
            "LogisticRegression binary training time is = 0:00:09.888691\n"
          ]
        }
      ]
    },
    {
      "cell_type": "code",
      "source": [
        "t = datetime.datetime.now()\n",
        "lrBPredictions = lrBModel.transform(testing_df)\n",
        "print(\"LogisticRegression binary prediction time is =\", (datetime.datetime.now() - t))\n",
        "print(evaluate_accuracy(lrBPredictions, binary=True))\n",
        "y_true = lrBPredictions.select(['qualityLabel']).collect()\n",
        "y_pred = lrBPredictions.select(['prediction']).collect()\n",
        "print_classification_report(y_true, y_pred, ['Low', \"High\"])"
      ],
      "metadata": {
        "id": "Nqfdh0NkIQnc",
        "colab": {
          "base_uri": "https://localhost:8080/"
        },
        "outputId": "c329be35-6623-4b05-cd70-34966fd248d8"
      },
      "execution_count": null,
      "outputs": [
        {
          "output_type": "stream",
          "name": "stdout",
          "text": [
            "LogisticRegression binary prediction time is = 0:00:00.184880\n",
            "0.8696185758032118\n",
            "              precision    recall  f1-score   support\n",
            "\n",
            "         Low       0.90      0.91      0.90      2233\n",
            "        High       0.80      0.79      0.80      1053\n",
            "\n",
            "    accuracy                           0.87      3286\n",
            "   macro avg       0.85      0.85      0.85      3286\n",
            "weighted avg       0.87      0.87      0.87      3286\n",
            "\n"
          ]
        }
      ]
    },
    {
      "cell_type": "code",
      "source": [
        "# persisting model\n",
        "# lrBModel.save(\"/content/drive/MyDrive/Big data project/lrBModel1\")"
      ],
      "metadata": {
        "id": "xBGJRH5km41v"
      },
      "execution_count": null,
      "outputs": []
    },
    {
      "cell_type": "markdown",
      "source": [
        "Random forest"
      ],
      "metadata": {
        "id": "5xeb4n8yJDwC"
      }
    },
    {
      "cell_type": "code",
      "source": [
        "# Random forest classifier\n",
        "from pyspark.ml.classification import RandomForestClassifier, DecisionTreeClassifier, LogisticRegression, NaiveBayes, GBTClassifier\n",
        "rfB = RandomForestClassifier(featuresCol=\"assembledFeatures\", labelCol=\"qualityLabel\")  # Binary classifier\n",
        "t = datetime.datetime.now()\n",
        "# rfBModel = build_learning_pipeline(pipelineModel, rfB).fit(training_df)\n",
        "rfBModel = pipelineModel.load(\"/content/drive/MyDrive/Big data project/rfBModel1\")\n",
        "print(\"RandomForestClassifier binary training time is =\", (datetime.datetime.now() - t))"
      ],
      "metadata": {
        "id": "GY-Y_CNmJFin",
        "colab": {
          "base_uri": "https://localhost:8080/"
        },
        "outputId": "97e24710-0ac1-4504-ed0c-262b9358234d"
      },
      "execution_count": null,
      "outputs": [
        {
          "output_type": "stream",
          "name": "stdout",
          "text": [
            "RandomForestClassifier binary training time is = 0:00:11.568479\n"
          ]
        }
      ]
    },
    {
      "cell_type": "code",
      "source": [
        "t = datetime.datetime.now()\n",
        "rfBPredictions = rfBModel.transform(testing_df)\n",
        "print(\"RandomForestClassifier binary prediction time is =\", (datetime.datetime.now() - t))\n",
        "print(evaluate_accuracy(rfBPredictions, binary=True))\n",
        "y_true = rfBPredictions.select(['qualityLabel']).collect()\n",
        "y_pred = rfBPredictions.select(['prediction']).collect()\n",
        "print_classification_report(y_true, y_pred, ['Low', \"High\"])"
      ],
      "metadata": {
        "id": "ZJ_mftGLJd6g",
        "colab": {
          "base_uri": "https://localhost:8080/"
        },
        "outputId": "464d4776-7166-4bb7-ca05-ad6f8836cc96"
      },
      "execution_count": null,
      "outputs": [
        {
          "output_type": "stream",
          "name": "stdout",
          "text": [
            "RandomForestClassifier binary prediction time is = 0:00:00.133874\n",
            "0.8542239113451024\n",
            "              precision    recall  f1-score   support\n",
            "\n",
            "         Low       0.89      0.90      0.89      2233\n",
            "        High       0.79      0.75      0.77      1053\n",
            "\n",
            "    accuracy                           0.86      3286\n",
            "   macro avg       0.84      0.83      0.83      3286\n",
            "weighted avg       0.85      0.86      0.85      3286\n",
            "\n"
          ]
        }
      ]
    },
    {
      "cell_type": "code",
      "source": [
        "# persisting model\n",
        "# rfBModel.save(\"/content/drive/MyDrive/Big data project/rfBModel1\")"
      ],
      "metadata": {
        "id": "yCPE4DdKnA4i"
      },
      "execution_count": null,
      "outputs": []
    }
  ]
}